{
  "nbformat": 4,
  "nbformat_minor": 0,
  "metadata": {
    "colab": {
      "provenance": [],
      "include_colab_link": true
    },
    "kernelspec": {
      "name": "python3",
      "display_name": "Python 3"
    },
    "language_info": {
      "name": "python"
    }
  },
  "cells": [
    {
      "cell_type": "markdown",
      "metadata": {
        "id": "view-in-github",
        "colab_type": "text"
      },
      "source": [
        "<a href=\"https://colab.research.google.com/github/poojatanawade09/SimulationInML/blob/main/Simulation_In_Machine_Learning.ipynb\" target=\"_parent\"><img src=\"https://colab.research.google.com/assets/colab-badge.svg\" alt=\"Open In Colab\"/></a>"
      ]
    },
    {
      "cell_type": "markdown",
      "source": [
        "##**Simulation technique :  demonstration using Monte carlo method**"
      ],
      "metadata": {
        "id": "R3PTZ-tdm7ov"
      }
    },
    {
      "cell_type": "markdown",
      "source": [
        "This notebook is to implement how montecarlo simulation can be implemented & used to find impact of input varaibles on uncertainity in target varaible\n",
        "\n",
        "\n",
        "A Monte Carlo simulation is a statistical method that uses repeated random sampling to simulate and analyze the probability of different outcomes when a system or process has random variables."
      ],
      "metadata": {
        "id": "RWliEIy3nElC"
      }
    },
    {
      "cell_type": "markdown",
      "source": [
        "### 💡 What are simulation techniques in ML?\n",
        "\n",
        "Simulation techniques in machine learning involve using computational models to mimic real-world processes and generate synthetic data. They allow us to explore the behavior of systems under different conditions and estimate the probability of various outcomes when there's uncertainty involved.\n",
        "\n",
        "\n",
        "###Why are they needed in ML?\n",
        "\n",
        "Simulation techniques are needed in ML for various reasons:\n",
        "\n",
        "*    Handling uncertainty: Many real-world problems have inherent uncertainty. Simulation helps to capture the variability of input data and see how it affects predictions.\n",
        "\n",
        "*    Risk analysis: By simulating different scenarios, we can identify potential risks and assess the impact of different decisions. This is valuable in areas like finance and healthcare.\n",
        "\n",
        "*    Predicting with uncertainty: Instead of just giving a single prediction, simulations let us get a range of possible outcomes and their likelihood. This provides more informed decision-making.\n",
        "*    Estimating model confidence: Simulations can assess the confidence of our predictions by showing how predictions vary with input changes."
      ],
      "metadata": {
        "id": "uk8MpFQpwyrJ"
      }
    },
    {
      "cell_type": "markdown",
      "source": [
        "### 💡 Why Monte Carlo in ML?\n",
        "\n",
        "Machine learning models often make predictions, but:\n",
        "\n",
        "* They don’t always know how sure they are\n",
        "* They need to estimate risks or probabilities\n",
        "\n",
        "Monte Carlo Simulation helps by saying:\n",
        "\n",
        "> \"Let’s run the model many times with slightly different inputs or assumptions and see what usually happens.\"\n",
        "\n",
        "---\n",
        "\n",
        "### 🧠 Example 1: Predicting House Prices\n",
        "\n",
        "Suppose your ML model predicts house prices.\n",
        "\n",
        "You input:\n",
        "\n",
        "* Square footage\n",
        "* Number of rooms\n",
        "* Location\n",
        "\n",
        "But some values have **uncertainty** — like estimated income of the area, or future interest rates.\n",
        "\n",
        "Using Monte Carlo Simulation:\n",
        "\n",
        "* You randomly tweak uncertain inputs many times (say 10,000)\n",
        "* Each time, the model gives a different price\n",
        "* You get a **range of possible prices**, and a better sense of **risk or uncertainty**\n",
        "\n",
        "You might find:\n",
        "\n",
        "* 90% of predicted prices are between £250,000 and £280,000\n",
        "* That helps in **decision-making**, not just using a single number\n",
        "\n",
        "---\n",
        "\n",
        "### 🧠 Example 2: Bayesian Neural Networks (BNNs)\n",
        "\n",
        "BNNs don’t give just one answer. They give a **distribution** of answers.\n",
        "Monte Carlo methods are used to:\n",
        "\n",
        "* Sample from those distributions\n",
        "* Estimate the **mean prediction** and the **confidence**\n",
        "\n",
        "This is called **Monte Carlo Dropout** — a popular technique where:\n",
        "\n",
        "* You run the same neural network multiple times with random dropout\n",
        "* Then average the results to estimate uncertainty\n",
        "\n",
        "---\n",
        "\n",
        "### 🧠 Example 3: Model Evaluation – Cross Validation\n",
        "\n",
        "Even in training/evaluation, Monte Carlo methods are used:\n",
        "\n",
        "* Randomly split data many times\n",
        "* Train and test models on each split\n",
        "* Get a more **reliable estimate** of how well the model performs\n",
        "\n",
        "This is a form of **Monte Carlo Cross Validation**\n",
        "\n",
        "---\n",
        "\n",
        "### 🔍 So In Summary, Monte Carlo in ML is used for:\n",
        "\n",
        "| Use Case                    | Why It's Helpful                              |\n",
        "| --------------------------- | --------------------------------------------- |\n",
        "| Predicting with uncertainty | See a range, not just one outcome             |\n",
        "| Estimating confidence       | Know how sure the model is                    |\n",
        "| Risk analysis               | Evaluate worst-case and best-case predictions |\n",
        "| Robust model evaluation     | Reduce bias from lucky/unlucky data splits    |\n",
        "\n",
        "\n",
        "### This tells you:\n",
        "\n",
        "How sensitive your model is to uncertain inputs.\n",
        "\n",
        "Gives confidence intervals (like: \"I'm 90% sure the price will be in this range\").\n",
        "\n",
        "Helps decision-making in risky or uncertain environments."
      ],
      "metadata": {
        "id": "5k3f65I1o8bt"
      }
    },
    {
      "cell_type": "markdown",
      "source": [],
      "metadata": {
        "id": "ku7tXEtOqhRu"
      }
    },
    {
      "cell_type": "markdown",
      "source": [
        "\n",
        "#### **📌 Problem:**\n",
        "\n",
        "Demonstration of Simulation Using Monte Carlo: House Price Prediction\n",
        "\n",
        "This example demonstrates the use of Monte Carlo simulation for house price prediction. A machine learning (ML) model is trained to predict house prices in a given area based on various input variables.\n"
      ],
      "metadata": {
        "id": "kMUiC_2OpnAr"
      }
    },
    {
      "cell_type": "code",
      "source": [
        "import pandas as pd\n",
        "from sklearn.model_selection import train_test_split\n",
        "from sklearn.feature_selection import SelectKBest\n",
        "from sklearn.feature_selection import chi2\n",
        "import numpy as np\n",
        "import matplotlib.pyplot as plt\n"
      ],
      "metadata": {
        "id": "PkKF8fllweGS"
      },
      "execution_count": null,
      "outputs": []
    },
    {
      "cell_type": "code",
      "source": [
        "#import kagglehub\n",
        "# Download latest version\n",
        "#path = kagglehub.dataset_download(\"altavish/boston-housing-dataset\")\n",
        "#print(\"Path to dataset files:\", path)\n",
        "#ls -lrt /kaggle/input/boston-housing-dataset"
      ],
      "metadata": {
        "id": "F5t74GH7wd58"
      },
      "execution_count": null,
      "outputs": []
    },
    {
      "cell_type": "markdown",
      "source": [
        "**Importing dataset**"
      ],
      "metadata": {
        "id": "6WyL2h5xvJlA"
      }
    },
    {
      "cell_type": "code",
      "source": [
        "dataframe=pd.read_csv('/content/drive/MyDrive/Dataset/Boston_house_price.csv')\n",
        "\n",
        "print(\"shape of dataframe \",dataframe.shape)\n"
      ],
      "metadata": {
        "colab": {
          "base_uri": "https://localhost:8080/"
        },
        "id": "Kz2HemXUw2lf",
        "outputId": "36a6862c-5fe6-479c-f192-11645e61f5be"
      },
      "execution_count": null,
      "outputs": [
        {
          "output_type": "stream",
          "name": "stdout",
          "text": [
            "shape of dataframe  (506, 14)\n"
          ]
        }
      ]
    },
    {
      "cell_type": "markdown",
      "source": [
        "**Column description**\n",
        "\n",
        "1. CRIM per capital crime rate by town\n",
        "\n",
        "2. ZN proportion of residential land zoned for lots over 25,000 sq.ft.\n",
        "\n",
        "3. INDUS proportion of non-retail business acres per town\n",
        "\n",
        "4. CHAS Charles River dummy variable (= 1 if tract bounds river; 0 otherwise)\n",
        "\n",
        "5. NOX nitric oxides concentration (parts per 10 million)\n",
        "\n",
        "6. RM average number of rooms per dwelling\n",
        "\n",
        "7. AGE proportion of owner-occupied units built prior to 1940\n",
        "\n",
        "8. DIS weighted distances to five Boston employment centers\n",
        "\n",
        "9. RAD index of accessibility to radial highways\n",
        "\n",
        "10. TAX full-value property-tax rate per 10,000 USD\n",
        "\n",
        "11. PTRATIO pupil-teacher ratio by town\n",
        "\n",
        "12. Black 1000(Bk — 0.63)² where Bk is the proportion of blacks by town\n",
        "\n",
        "13. LSTAT % lower status of the population"
      ],
      "metadata": {
        "id": "b6G67he9u9-Y"
      }
    },
    {
      "cell_type": "markdown",
      "source": [
        "**separating target column & input features**"
      ],
      "metadata": {
        "id": "PUZg0gt0vX_z"
      }
    },
    {
      "cell_type": "code",
      "source": [
        "input_features=['CRIM', 'ZN', 'INDUS', 'CHAS', 'NOX', 'RM', 'AGE', 'DIS', 'RAD', 'TAX','PTRATIO', 'B', 'LSTAT']\n",
        "\n",
        "target_column=['PRICE']\n",
        "\n",
        "X=dataframe[input_features]\n",
        "y=dataframe[target_column]"
      ],
      "metadata": {
        "id": "f-8MAC_M2lAs"
      },
      "execution_count": null,
      "outputs": []
    },
    {
      "cell_type": "code",
      "source": [
        "#drop rows where target column is null /missing\n",
        "dataframe['PRICE'].isnull().sum()"
      ],
      "metadata": {
        "colab": {
          "base_uri": "https://localhost:8080/"
        },
        "id": "_0IXsMGJzbYt",
        "outputId": "6aa3f80e-fdf8-47dc-bb0b-0fed9e5ebf13"
      },
      "execution_count": null,
      "outputs": [
        {
          "output_type": "execute_result",
          "data": {
            "text/plain": [
              "np.int64(0)"
            ]
          },
          "metadata": {},
          "execution_count": 259
        }
      ]
    },
    {
      "cell_type": "markdown",
      "source": [
        "**Dividing into train - test split**"
      ],
      "metadata": {
        "id": "RswO--0kvi8J"
      }
    },
    {
      "cell_type": "code",
      "source": [
        "X_train, X_test, y_train, y_test = train_test_split(X, y, test_size=0.33, random_state=42)"
      ],
      "metadata": {
        "id": "sfvNALWMzmm0"
      },
      "execution_count": null,
      "outputs": []
    },
    {
      "cell_type": "markdown",
      "source": [
        "**Feature selection:**\n",
        "\n",
        "1] using SelectKbest , having feature score above 100\n",
        "\n",
        "2] checking for multicollinearity"
      ],
      "metadata": {
        "id": "wzF-JOeevqFc"
      }
    },
    {
      "cell_type": "code",
      "source": [
        "y = np.round(y_train['PRICE'])\n",
        "#Apply SelectKBest class to extract top 5 best features\n",
        "bestfeatures = SelectKBest(score_func=chi2, k=5)\n",
        "fit = bestfeatures.fit(X_train,y)\n",
        "dfscores = pd.DataFrame(fit.scores_)\n",
        "dfcolumns = pd.DataFrame(input_features)\n",
        "\n",
        "featureScores = pd.concat([dfcolumns,dfscores],axis=1)\n",
        "featureScores.columns = ['Specs','Score'] #naming the dataframe columns"
      ],
      "metadata": {
        "id": "xmLfeI6axt7C"
      },
      "execution_count": null,
      "outputs": []
    },
    {
      "cell_type": "code",
      "source": [
        "#finding features with feature-score above 100\n",
        "top_features=featureScores.loc[featureScores['Score']>100].sort_values(by='Score',ascending=False)"
      ],
      "metadata": {
        "id": "WUx10paixovc"
      },
      "execution_count": null,
      "outputs": []
    },
    {
      "cell_type": "code",
      "source": [
        "#to find multicollinearity & dropping columns having correlation value of 0.90 & above\n",
        "corr_matrix=X_train[list(top_features['Specs'])].corr().abs()\n",
        "upper=corr_matrix.where(np.triu(np.ones(corr_matrix.shape),k=1).astype(np.bool))\n",
        "to_drop=[column for column in upper.columns if any(upper[column]>0.90)]\n",
        "print(\"columns to drop \",to_drop)"
      ],
      "metadata": {
        "colab": {
          "base_uri": "https://localhost:8080/"
        },
        "id": "5_QJ9YtzxP_i",
        "outputId": "b01a8fef-9fb9-4b1f-dc78-643370bdf5ee"
      },
      "execution_count": null,
      "outputs": [
        {
          "output_type": "stream",
          "name": "stdout",
          "text": [
            "columns to drop  ['RAD']\n"
          ]
        }
      ]
    },
    {
      "cell_type": "code",
      "source": [
        "#checking if column to drop has any significant correlation with target varaible or not:\n",
        "X['RAD'].corr(y)"
      ],
      "metadata": {
        "colab": {
          "base_uri": "https://localhost:8080/"
        },
        "id": "0XBtR8G-w6hz",
        "outputId": "1ccb8f96-c26e-4e53-e20e-216d27937716"
      },
      "execution_count": null,
      "outputs": [
        {
          "output_type": "execute_result",
          "data": {
            "text/plain": [
              "np.float64(-0.3806676680291132)"
            ]
          },
          "metadata": {},
          "execution_count": 264
        }
      ]
    },
    {
      "cell_type": "code",
      "source": [
        "#dropping the column :RAD's as correlation with target varaible is not significant but very high with other input varaible 'TAX'\n",
        "X_train.drop(to_drop,axis=1,inplace=True)\n",
        "X_test.drop(to_drop,axis=1,inplace=True)"
      ],
      "metadata": {
        "id": "kq60G5UV_GJo"
      },
      "execution_count": null,
      "outputs": []
    },
    {
      "cell_type": "code",
      "source": [
        "print(\"columns on which model will be trained \",list(X_train.columns))"
      ],
      "metadata": {
        "colab": {
          "base_uri": "https://localhost:8080/"
        },
        "id": "So82gBW1yL6M",
        "outputId": "36a7ced1-6433-4da6-ef65-13431b46eab4"
      },
      "execution_count": null,
      "outputs": [
        {
          "output_type": "stream",
          "name": "stdout",
          "text": [
            "columns on which model will be trained  ['CRIM', 'ZN', 'INDUS', 'CHAS', 'NOX', 'RM', 'AGE', 'DIS', 'TAX', 'PTRATIO', 'B', 'LSTAT']\n"
          ]
        }
      ]
    },
    {
      "cell_type": "markdown",
      "source": [
        "**Train the model : Using catboost**"
      ],
      "metadata": {
        "id": "VOGcxUNBxdJu"
      }
    },
    {
      "cell_type": "code",
      "source": [
        "!pip install -q catboost # Install the catboost library\n",
        "from catboost import CatBoostRegressor # Now you can import CatBoostRegressor"
      ],
      "metadata": {
        "id": "3wpAeUdl9xIP"
      },
      "execution_count": null,
      "outputs": []
    },
    {
      "cell_type": "code",
      "source": [
        "cb=CatBoostRegressor()\n",
        "cb.fit(X_train,y_train)"
      ],
      "metadata": {
        "colab": {
          "base_uri": "https://localhost:8080/"
        },
        "id": "ejdRKD30A6iX",
        "outputId": "7809e70d-4af6-4d6e-8135-b3a7db182001"
      },
      "execution_count": null,
      "outputs": [
        {
          "output_type": "stream",
          "name": "stdout",
          "text": [
            "Learning rate set to 0.03451\n",
            "0:\tlearn: 9.2057262\ttotal: 3.5ms\tremaining: 3.5s\n",
            "1:\tlearn: 9.0047990\ttotal: 7.11ms\tremaining: 3.55s\n",
            "2:\tlearn: 8.8510487\ttotal: 14.6ms\tremaining: 4.84s\n",
            "3:\tlearn: 8.6985948\ttotal: 18.1ms\tremaining: 4.52s\n",
            "4:\tlearn: 8.5124839\ttotal: 25.9ms\tremaining: 5.15s\n",
            "5:\tlearn: 8.3552103\ttotal: 33.1ms\tremaining: 5.48s\n",
            "6:\tlearn: 8.2021987\ttotal: 41.4ms\tremaining: 5.87s\n",
            "7:\tlearn: 8.0297866\ttotal: 45.6ms\tremaining: 5.65s\n",
            "8:\tlearn: 7.8787321\ttotal: 54.1ms\tremaining: 5.96s\n",
            "9:\tlearn: 7.7292729\ttotal: 57.6ms\tremaining: 5.7s\n",
            "10:\tlearn: 7.5764719\ttotal: 76.7ms\tremaining: 6.89s\n",
            "11:\tlearn: 7.4281128\ttotal: 89.3ms\tremaining: 7.35s\n",
            "12:\tlearn: 7.3015955\ttotal: 95.4ms\tremaining: 7.24s\n",
            "13:\tlearn: 7.1798975\ttotal: 112ms\tremaining: 7.88s\n",
            "14:\tlearn: 7.0415835\ttotal: 132ms\tremaining: 8.69s\n",
            "15:\tlearn: 6.9236030\ttotal: 141ms\tremaining: 8.68s\n",
            "16:\tlearn: 6.8012079\ttotal: 150ms\tremaining: 8.65s\n",
            "17:\tlearn: 6.6873692\ttotal: 156ms\tremaining: 8.5s\n",
            "18:\tlearn: 6.5769557\ttotal: 163ms\tremaining: 8.4s\n",
            "19:\tlearn: 6.4723295\ttotal: 166ms\tremaining: 8.14s\n",
            "20:\tlearn: 6.3680681\ttotal: 173ms\tremaining: 8.07s\n",
            "21:\tlearn: 6.2567626\ttotal: 181ms\tremaining: 8.03s\n",
            "22:\tlearn: 6.1464267\ttotal: 190ms\tremaining: 8.08s\n",
            "23:\tlearn: 6.0451214\ttotal: 200ms\tremaining: 8.14s\n",
            "24:\tlearn: 5.9509561\ttotal: 204ms\tremaining: 7.95s\n",
            "25:\tlearn: 5.8617181\ttotal: 232ms\tremaining: 8.7s\n",
            "26:\tlearn: 5.7708980\ttotal: 238ms\tremaining: 8.59s\n",
            "27:\tlearn: 5.6736947\ttotal: 241ms\tremaining: 8.38s\n",
            "28:\tlearn: 5.5938929\ttotal: 244ms\tremaining: 8.16s\n",
            "29:\tlearn: 5.5108617\ttotal: 246ms\tremaining: 7.97s\n",
            "30:\tlearn: 5.4463579\ttotal: 256ms\tremaining: 8s\n",
            "31:\tlearn: 5.3780234\ttotal: 265ms\tremaining: 8.02s\n",
            "32:\tlearn: 5.3108929\ttotal: 268ms\tremaining: 7.86s\n",
            "33:\tlearn: 5.2229362\ttotal: 277ms\tremaining: 7.88s\n",
            "34:\tlearn: 5.1417999\ttotal: 279ms\tremaining: 7.7s\n",
            "35:\tlearn: 5.0636505\ttotal: 281ms\tremaining: 7.53s\n",
            "36:\tlearn: 4.9920897\ttotal: 311ms\tremaining: 8.08s\n",
            "37:\tlearn: 4.9297964\ttotal: 313ms\tremaining: 7.91s\n",
            "38:\tlearn: 4.8718852\ttotal: 337ms\tremaining: 8.32s\n",
            "39:\tlearn: 4.8063352\ttotal: 348ms\tremaining: 8.34s\n",
            "40:\tlearn: 4.7456465\ttotal: 350ms\tremaining: 8.18s\n",
            "41:\tlearn: 4.6799664\ttotal: 365ms\tremaining: 8.33s\n",
            "42:\tlearn: 4.6154554\ttotal: 367ms\tremaining: 8.17s\n",
            "43:\tlearn: 4.5552888\ttotal: 369ms\tremaining: 8.02s\n",
            "44:\tlearn: 4.4953079\ttotal: 383ms\tremaining: 8.14s\n",
            "45:\tlearn: 4.4382716\ttotal: 385ms\tremaining: 7.99s\n",
            "46:\tlearn: 4.3857253\ttotal: 402ms\tremaining: 8.14s\n",
            "47:\tlearn: 4.3418737\ttotal: 412ms\tremaining: 8.17s\n",
            "48:\tlearn: 4.2936167\ttotal: 414ms\tremaining: 8.04s\n",
            "49:\tlearn: 4.2495144\ttotal: 424ms\tremaining: 8.05s\n",
            "50:\tlearn: 4.2029426\ttotal: 440ms\tremaining: 8.2s\n",
            "51:\tlearn: 4.1710307\ttotal: 443ms\tremaining: 8.07s\n",
            "52:\tlearn: 4.1198696\ttotal: 455ms\tremaining: 8.14s\n",
            "53:\tlearn: 4.0791969\ttotal: 457ms\tremaining: 8.01s\n",
            "54:\tlearn: 4.0329096\ttotal: 469ms\tremaining: 8.07s\n",
            "55:\tlearn: 3.9887708\ttotal: 472ms\tremaining: 7.96s\n",
            "56:\tlearn: 3.9423786\ttotal: 476ms\tremaining: 7.88s\n",
            "57:\tlearn: 3.8948638\ttotal: 479ms\tremaining: 7.79s\n",
            "58:\tlearn: 3.8576380\ttotal: 481ms\tremaining: 7.68s\n",
            "59:\tlearn: 3.8232387\ttotal: 485ms\tremaining: 7.6s\n",
            "60:\tlearn: 3.7904170\ttotal: 488ms\tremaining: 7.52s\n",
            "61:\tlearn: 3.7627177\ttotal: 493ms\tremaining: 7.45s\n",
            "62:\tlearn: 3.7305241\ttotal: 499ms\tremaining: 7.42s\n",
            "63:\tlearn: 3.7035014\ttotal: 503ms\tremaining: 7.36s\n",
            "64:\tlearn: 3.6742266\ttotal: 525ms\tremaining: 7.55s\n",
            "65:\tlearn: 3.6272101\ttotal: 545ms\tremaining: 7.71s\n",
            "66:\tlearn: 3.5919549\ttotal: 551ms\tremaining: 7.67s\n",
            "67:\tlearn: 3.5511202\ttotal: 556ms\tremaining: 7.62s\n",
            "68:\tlearn: 3.5154431\ttotal: 582ms\tremaining: 7.86s\n",
            "69:\tlearn: 3.4874502\ttotal: 584ms\tremaining: 7.76s\n",
            "70:\tlearn: 3.4559041\ttotal: 598ms\tremaining: 7.83s\n",
            "71:\tlearn: 3.4250711\ttotal: 600ms\tremaining: 7.74s\n",
            "72:\tlearn: 3.3988013\ttotal: 603ms\tremaining: 7.66s\n",
            "73:\tlearn: 3.3651329\ttotal: 618ms\tremaining: 7.73s\n",
            "74:\tlearn: 3.3439301\ttotal: 623ms\tremaining: 7.68s\n",
            "75:\tlearn: 3.3212217\ttotal: 625ms\tremaining: 7.6s\n",
            "76:\tlearn: 3.3017765\ttotal: 627ms\tremaining: 7.52s\n",
            "77:\tlearn: 3.2762840\ttotal: 638ms\tremaining: 7.54s\n",
            "78:\tlearn: 3.2520705\ttotal: 660ms\tremaining: 7.7s\n",
            "79:\tlearn: 3.2322591\ttotal: 662ms\tremaining: 7.62s\n",
            "80:\tlearn: 3.2127071\ttotal: 672ms\tremaining: 7.63s\n",
            "81:\tlearn: 3.1930097\ttotal: 674ms\tremaining: 7.55s\n",
            "82:\tlearn: 3.1744043\ttotal: 691ms\tremaining: 7.63s\n",
            "83:\tlearn: 3.1529399\ttotal: 693ms\tremaining: 7.56s\n",
            "84:\tlearn: 3.1304323\ttotal: 709ms\tremaining: 7.63s\n",
            "85:\tlearn: 3.1077786\ttotal: 711ms\tremaining: 7.55s\n",
            "86:\tlearn: 3.0911511\ttotal: 724ms\tremaining: 7.59s\n",
            "87:\tlearn: 3.0697843\ttotal: 733ms\tremaining: 7.59s\n",
            "88:\tlearn: 3.0563509\ttotal: 738ms\tremaining: 7.55s\n",
            "89:\tlearn: 3.0354897\ttotal: 746ms\tremaining: 7.55s\n",
            "90:\tlearn: 3.0164731\ttotal: 754ms\tremaining: 7.53s\n",
            "91:\tlearn: 3.0047006\ttotal: 761ms\tremaining: 7.51s\n",
            "92:\tlearn: 2.9903703\ttotal: 767ms\tremaining: 7.48s\n",
            "93:\tlearn: 2.9718268\ttotal: 776ms\tremaining: 7.48s\n",
            "94:\tlearn: 2.9579405\ttotal: 792ms\tremaining: 7.54s\n",
            "95:\tlearn: 2.9353938\ttotal: 805ms\tremaining: 7.58s\n",
            "96:\tlearn: 2.9224889\ttotal: 815ms\tremaining: 7.59s\n",
            "97:\tlearn: 2.9122971\ttotal: 834ms\tremaining: 7.68s\n",
            "98:\tlearn: 2.9001426\ttotal: 839ms\tremaining: 7.64s\n",
            "99:\tlearn: 2.8861472\ttotal: 853ms\tremaining: 7.67s\n",
            "100:\tlearn: 2.8671393\ttotal: 875ms\tremaining: 7.79s\n",
            "101:\tlearn: 2.8583065\ttotal: 885ms\tremaining: 7.79s\n",
            "102:\tlearn: 2.8461880\ttotal: 892ms\tremaining: 7.77s\n",
            "103:\tlearn: 2.8358301\ttotal: 898ms\tremaining: 7.74s\n",
            "104:\tlearn: 2.8227712\ttotal: 907ms\tremaining: 7.73s\n",
            "105:\tlearn: 2.8048792\ttotal: 922ms\tremaining: 7.78s\n",
            "106:\tlearn: 2.7913077\ttotal: 935ms\tremaining: 7.8s\n",
            "107:\tlearn: 2.7804271\ttotal: 938ms\tremaining: 7.75s\n",
            "108:\tlearn: 2.7637039\ttotal: 940ms\tremaining: 7.68s\n",
            "109:\tlearn: 2.7481953\ttotal: 946ms\tremaining: 7.66s\n",
            "110:\tlearn: 2.7387118\ttotal: 951ms\tremaining: 7.61s\n",
            "111:\tlearn: 2.7258283\ttotal: 961ms\tremaining: 7.62s\n",
            "112:\tlearn: 2.7108451\ttotal: 963ms\tremaining: 7.56s\n",
            "113:\tlearn: 2.7003090\ttotal: 971ms\tremaining: 7.54s\n",
            "114:\tlearn: 2.6865492\ttotal: 979ms\tremaining: 7.54s\n",
            "115:\tlearn: 2.6762277\ttotal: 983ms\tremaining: 7.49s\n",
            "116:\tlearn: 2.6621949\ttotal: 990ms\tremaining: 7.47s\n",
            "117:\tlearn: 2.6490307\ttotal: 995ms\tremaining: 7.43s\n",
            "118:\tlearn: 2.6372724\ttotal: 1.02s\tremaining: 7.59s\n",
            "119:\tlearn: 2.6257476\ttotal: 1.04s\tremaining: 7.64s\n",
            "120:\tlearn: 2.6155196\ttotal: 1.05s\tremaining: 7.61s\n",
            "121:\tlearn: 2.6094475\ttotal: 1.05s\tremaining: 7.55s\n",
            "122:\tlearn: 2.6015785\ttotal: 1.06s\tremaining: 7.54s\n",
            "123:\tlearn: 2.5895786\ttotal: 1.06s\tremaining: 7.49s\n",
            "124:\tlearn: 2.5801235\ttotal: 1.09s\tremaining: 7.61s\n",
            "125:\tlearn: 2.5717595\ttotal: 1.1s\tremaining: 7.65s\n",
            "126:\tlearn: 2.5628465\ttotal: 1.11s\tremaining: 7.64s\n",
            "127:\tlearn: 2.5521557\ttotal: 1.12s\tremaining: 7.62s\n",
            "128:\tlearn: 2.5448193\ttotal: 1.13s\tremaining: 7.61s\n",
            "129:\tlearn: 2.5366399\ttotal: 1.14s\tremaining: 7.6s\n",
            "130:\tlearn: 2.5280167\ttotal: 1.14s\tremaining: 7.58s\n",
            "131:\tlearn: 2.5198599\ttotal: 1.15s\tremaining: 7.56s\n",
            "132:\tlearn: 2.5107689\ttotal: 1.15s\tremaining: 7.52s\n",
            "133:\tlearn: 2.4990426\ttotal: 1.16s\tremaining: 7.5s\n",
            "134:\tlearn: 2.4882570\ttotal: 1.17s\tremaining: 7.49s\n",
            "135:\tlearn: 2.4768709\ttotal: 1.18s\tremaining: 7.47s\n",
            "136:\tlearn: 2.4681094\ttotal: 1.18s\tremaining: 7.42s\n",
            "137:\tlearn: 2.4592883\ttotal: 1.18s\tremaining: 7.37s\n",
            "138:\tlearn: 2.4474958\ttotal: 1.18s\tremaining: 7.32s\n",
            "139:\tlearn: 2.4381446\ttotal: 1.19s\tremaining: 7.29s\n",
            "140:\tlearn: 2.4307274\ttotal: 1.19s\tremaining: 7.28s\n",
            "141:\tlearn: 2.4219663\ttotal: 1.2s\tremaining: 7.24s\n",
            "142:\tlearn: 2.4175560\ttotal: 1.21s\tremaining: 7.23s\n",
            "143:\tlearn: 2.4066767\ttotal: 1.21s\tremaining: 7.21s\n",
            "144:\tlearn: 2.3972020\ttotal: 1.22s\tremaining: 7.2s\n",
            "145:\tlearn: 2.3876835\ttotal: 1.23s\tremaining: 7.18s\n",
            "146:\tlearn: 2.3811849\ttotal: 1.23s\tremaining: 7.16s\n",
            "147:\tlearn: 2.3747658\ttotal: 1.27s\tremaining: 7.31s\n",
            "148:\tlearn: 2.3619675\ttotal: 1.28s\tremaining: 7.29s\n",
            "149:\tlearn: 2.3574614\ttotal: 1.28s\tremaining: 7.28s\n",
            "150:\tlearn: 2.3503105\ttotal: 1.29s\tremaining: 7.24s\n",
            "151:\tlearn: 2.3408099\ttotal: 1.29s\tremaining: 7.22s\n",
            "152:\tlearn: 2.3374474\ttotal: 1.3s\tremaining: 7.22s\n",
            "153:\tlearn: 2.3315359\ttotal: 1.31s\tremaining: 7.19s\n",
            "154:\tlearn: 2.3253660\ttotal: 1.32s\tremaining: 7.18s\n",
            "155:\tlearn: 2.3181166\ttotal: 1.32s\tremaining: 7.14s\n",
            "156:\tlearn: 2.3088384\ttotal: 1.34s\tremaining: 7.19s\n",
            "157:\tlearn: 2.3000837\ttotal: 1.34s\tremaining: 7.17s\n",
            "158:\tlearn: 2.2944738\ttotal: 1.36s\tremaining: 7.19s\n",
            "159:\tlearn: 2.2921594\ttotal: 1.37s\tremaining: 7.17s\n",
            "160:\tlearn: 2.2855735\ttotal: 1.37s\tremaining: 7.16s\n",
            "161:\tlearn: 2.2813343\ttotal: 1.38s\tremaining: 7.15s\n",
            "162:\tlearn: 2.2748160\ttotal: 1.39s\tremaining: 7.14s\n",
            "163:\tlearn: 2.2664940\ttotal: 1.39s\tremaining: 7.11s\n",
            "164:\tlearn: 2.2603239\ttotal: 1.41s\tremaining: 7.12s\n",
            "165:\tlearn: 2.2531726\ttotal: 1.41s\tremaining: 7.1s\n",
            "166:\tlearn: 2.2498304\ttotal: 1.42s\tremaining: 7.07s\n",
            "167:\tlearn: 2.2450517\ttotal: 1.42s\tremaining: 7.05s\n",
            "168:\tlearn: 2.2408929\ttotal: 1.43s\tremaining: 7.03s\n",
            "169:\tlearn: 2.2331532\ttotal: 1.44s\tremaining: 7.02s\n",
            "170:\tlearn: 2.2251005\ttotal: 1.44s\tremaining: 6.99s\n",
            "171:\tlearn: 2.2213378\ttotal: 1.45s\tremaining: 6.97s\n",
            "172:\tlearn: 2.2140152\ttotal: 1.46s\tremaining: 6.97s\n",
            "173:\tlearn: 2.2063036\ttotal: 1.46s\tremaining: 6.95s\n",
            "174:\tlearn: 2.2021104\ttotal: 1.47s\tremaining: 6.92s\n",
            "175:\tlearn: 2.1953068\ttotal: 1.48s\tremaining: 6.93s\n",
            "176:\tlearn: 2.1883221\ttotal: 1.48s\tremaining: 6.9s\n",
            "177:\tlearn: 2.1799642\ttotal: 1.49s\tremaining: 6.88s\n",
            "178:\tlearn: 2.1756924\ttotal: 1.5s\tremaining: 6.88s\n",
            "179:\tlearn: 2.1737996\ttotal: 1.5s\tremaining: 6.85s\n",
            "180:\tlearn: 2.1690166\ttotal: 1.51s\tremaining: 6.84s\n",
            "181:\tlearn: 2.1607025\ttotal: 1.54s\tremaining: 6.91s\n",
            "182:\tlearn: 2.1553462\ttotal: 1.55s\tremaining: 6.9s\n",
            "183:\tlearn: 2.1541286\ttotal: 1.56s\tremaining: 6.9s\n",
            "184:\tlearn: 2.1484939\ttotal: 1.56s\tremaining: 6.89s\n",
            "185:\tlearn: 2.1445069\ttotal: 1.57s\tremaining: 6.88s\n",
            "186:\tlearn: 2.1360488\ttotal: 1.58s\tremaining: 6.87s\n",
            "187:\tlearn: 2.1317234\ttotal: 1.59s\tremaining: 6.86s\n",
            "188:\tlearn: 2.1295621\ttotal: 1.59s\tremaining: 6.83s\n",
            "189:\tlearn: 2.1228446\ttotal: 1.6s\tremaining: 6.82s\n",
            "190:\tlearn: 2.1167645\ttotal: 1.61s\tremaining: 6.81s\n",
            "191:\tlearn: 2.1116514\ttotal: 1.61s\tremaining: 6.79s\n",
            "192:\tlearn: 2.1072030\ttotal: 1.62s\tremaining: 6.77s\n",
            "193:\tlearn: 2.1001692\ttotal: 1.62s\tremaining: 6.75s\n",
            "194:\tlearn: 2.0947502\ttotal: 1.63s\tremaining: 6.75s\n",
            "195:\tlearn: 2.0882434\ttotal: 1.64s\tremaining: 6.74s\n",
            "196:\tlearn: 2.0849034\ttotal: 1.66s\tremaining: 6.75s\n",
            "197:\tlearn: 2.0796355\ttotal: 1.67s\tremaining: 6.77s\n",
            "198:\tlearn: 2.0731596\ttotal: 1.69s\tremaining: 6.78s\n",
            "199:\tlearn: 2.0714855\ttotal: 1.71s\tremaining: 6.84s\n",
            "200:\tlearn: 2.0643644\ttotal: 1.72s\tremaining: 6.83s\n",
            "201:\tlearn: 2.0612979\ttotal: 1.73s\tremaining: 6.85s\n",
            "202:\tlearn: 2.0526633\ttotal: 1.74s\tremaining: 6.85s\n",
            "203:\tlearn: 2.0486974\ttotal: 1.75s\tremaining: 6.83s\n",
            "204:\tlearn: 2.0424524\ttotal: 1.75s\tremaining: 6.81s\n",
            "205:\tlearn: 2.0397873\ttotal: 1.76s\tremaining: 6.8s\n",
            "206:\tlearn: 2.0382960\ttotal: 1.77s\tremaining: 6.78s\n",
            "207:\tlearn: 2.0323638\ttotal: 1.77s\tremaining: 6.75s\n",
            "208:\tlearn: 2.0307507\ttotal: 1.78s\tremaining: 6.74s\n",
            "209:\tlearn: 2.0283732\ttotal: 1.79s\tremaining: 6.72s\n",
            "210:\tlearn: 2.0245531\ttotal: 1.79s\tremaining: 6.7s\n",
            "211:\tlearn: 2.0192034\ttotal: 1.8s\tremaining: 6.7s\n",
            "212:\tlearn: 2.0150459\ttotal: 1.81s\tremaining: 6.69s\n",
            "213:\tlearn: 2.0103478\ttotal: 1.82s\tremaining: 6.69s\n",
            "214:\tlearn: 2.0089643\ttotal: 1.83s\tremaining: 6.68s\n",
            "215:\tlearn: 2.0059248\ttotal: 1.84s\tremaining: 6.69s\n",
            "216:\tlearn: 2.0013571\ttotal: 1.85s\tremaining: 6.69s\n",
            "217:\tlearn: 1.9959095\ttotal: 1.87s\tremaining: 6.69s\n",
            "218:\tlearn: 1.9925534\ttotal: 1.88s\tremaining: 6.69s\n",
            "219:\tlearn: 1.9913347\ttotal: 1.88s\tremaining: 6.68s\n",
            "220:\tlearn: 1.9882005\ttotal: 1.9s\tremaining: 6.69s\n",
            "221:\tlearn: 1.9825845\ttotal: 1.91s\tremaining: 6.68s\n",
            "222:\tlearn: 1.9788836\ttotal: 1.92s\tremaining: 6.67s\n",
            "223:\tlearn: 1.9739101\ttotal: 1.93s\tremaining: 6.68s\n",
            "224:\tlearn: 1.9724795\ttotal: 1.94s\tremaining: 6.67s\n",
            "225:\tlearn: 1.9713467\ttotal: 1.96s\tremaining: 6.7s\n",
            "226:\tlearn: 1.9696032\ttotal: 1.97s\tremaining: 6.72s\n",
            "227:\tlearn: 1.9677039\ttotal: 1.99s\tremaining: 6.75s\n",
            "228:\tlearn: 1.9653327\ttotal: 2.01s\tremaining: 6.78s\n",
            "229:\tlearn: 1.9643700\ttotal: 2.03s\tremaining: 6.8s\n",
            "230:\tlearn: 1.9623882\ttotal: 2.05s\tremaining: 6.82s\n",
            "231:\tlearn: 1.9614439\ttotal: 2.06s\tremaining: 6.81s\n",
            "232:\tlearn: 1.9544598\ttotal: 2.07s\tremaining: 6.83s\n",
            "233:\tlearn: 1.9535035\ttotal: 2.08s\tremaining: 6.81s\n",
            "234:\tlearn: 1.9480306\ttotal: 2.08s\tremaining: 6.78s\n",
            "235:\tlearn: 1.9413667\ttotal: 2.09s\tremaining: 6.77s\n",
            "236:\tlearn: 1.9362448\ttotal: 2.1s\tremaining: 6.76s\n",
            "237:\tlearn: 1.9333289\ttotal: 2.1s\tremaining: 6.74s\n",
            "238:\tlearn: 1.9292781\ttotal: 2.11s\tremaining: 6.73s\n",
            "239:\tlearn: 1.9230234\ttotal: 2.13s\tremaining: 6.76s\n",
            "240:\tlearn: 1.9173030\ttotal: 2.14s\tremaining: 6.74s\n",
            "241:\tlearn: 1.9153040\ttotal: 2.15s\tremaining: 6.73s\n",
            "242:\tlearn: 1.9093309\ttotal: 2.15s\tremaining: 6.71s\n",
            "243:\tlearn: 1.9025550\ttotal: 2.16s\tremaining: 6.69s\n",
            "244:\tlearn: 1.8986158\ttotal: 2.17s\tremaining: 6.68s\n",
            "245:\tlearn: 1.8943876\ttotal: 2.18s\tremaining: 6.68s\n",
            "246:\tlearn: 1.8917634\ttotal: 2.19s\tremaining: 6.67s\n",
            "247:\tlearn: 1.8857295\ttotal: 2.19s\tremaining: 6.65s\n",
            "248:\tlearn: 1.8792030\ttotal: 2.22s\tremaining: 6.7s\n",
            "249:\tlearn: 1.8779066\ttotal: 2.23s\tremaining: 6.69s\n",
            "250:\tlearn: 1.8722837\ttotal: 2.24s\tremaining: 6.69s\n",
            "251:\tlearn: 1.8674930\ttotal: 2.26s\tremaining: 6.72s\n",
            "252:\tlearn: 1.8651042\ttotal: 2.27s\tremaining: 6.71s\n",
            "253:\tlearn: 1.8632863\ttotal: 2.28s\tremaining: 6.71s\n",
            "254:\tlearn: 1.8554826\ttotal: 2.3s\tremaining: 6.72s\n",
            "255:\tlearn: 1.8537184\ttotal: 2.3s\tremaining: 6.7s\n",
            "256:\tlearn: 1.8470930\ttotal: 2.32s\tremaining: 6.7s\n",
            "257:\tlearn: 1.8453758\ttotal: 2.33s\tremaining: 6.7s\n",
            "258:\tlearn: 1.8443478\ttotal: 2.35s\tremaining: 6.71s\n",
            "259:\tlearn: 1.8417928\ttotal: 2.36s\tremaining: 6.71s\n",
            "260:\tlearn: 1.8351826\ttotal: 2.38s\tremaining: 6.73s\n",
            "261:\tlearn: 1.8322919\ttotal: 2.38s\tremaining: 6.72s\n",
            "262:\tlearn: 1.8265960\ttotal: 2.41s\tremaining: 6.75s\n",
            "263:\tlearn: 1.8217897\ttotal: 2.41s\tremaining: 6.72s\n",
            "264:\tlearn: 1.8153998\ttotal: 2.42s\tremaining: 6.73s\n",
            "265:\tlearn: 1.8106343\ttotal: 2.43s\tremaining: 6.71s\n",
            "266:\tlearn: 1.8090632\ttotal: 2.45s\tremaining: 6.71s\n",
            "267:\tlearn: 1.8083574\ttotal: 2.46s\tremaining: 6.71s\n",
            "268:\tlearn: 1.8045129\ttotal: 2.47s\tremaining: 6.72s\n",
            "269:\tlearn: 1.8038038\ttotal: 2.49s\tremaining: 6.72s\n",
            "270:\tlearn: 1.8030455\ttotal: 2.5s\tremaining: 6.74s\n",
            "271:\tlearn: 1.7980442\ttotal: 2.51s\tremaining: 6.71s\n",
            "272:\tlearn: 1.7925939\ttotal: 2.52s\tremaining: 6.72s\n",
            "273:\tlearn: 1.7863454\ttotal: 2.53s\tremaining: 6.71s\n",
            "274:\tlearn: 1.7803016\ttotal: 2.55s\tremaining: 6.71s\n",
            "275:\tlearn: 1.7795244\ttotal: 2.56s\tremaining: 6.71s\n",
            "276:\tlearn: 1.7728072\ttotal: 2.56s\tremaining: 6.7s\n",
            "277:\tlearn: 1.7665631\ttotal: 2.58s\tremaining: 6.69s\n",
            "278:\tlearn: 1.7622060\ttotal: 2.58s\tremaining: 6.67s\n",
            "279:\tlearn: 1.7572526\ttotal: 2.59s\tremaining: 6.66s\n",
            "280:\tlearn: 1.7557694\ttotal: 2.6s\tremaining: 6.65s\n",
            "281:\tlearn: 1.7498351\ttotal: 2.6s\tremaining: 6.63s\n",
            "282:\tlearn: 1.7463017\ttotal: 2.63s\tremaining: 6.65s\n",
            "283:\tlearn: 1.7411469\ttotal: 2.64s\tremaining: 6.66s\n",
            "284:\tlearn: 1.7372453\ttotal: 2.65s\tremaining: 6.66s\n",
            "285:\tlearn: 1.7325943\ttotal: 2.67s\tremaining: 6.66s\n",
            "286:\tlearn: 1.7281525\ttotal: 2.68s\tremaining: 6.66s\n",
            "287:\tlearn: 1.7226100\ttotal: 2.69s\tremaining: 6.64s\n",
            "288:\tlearn: 1.7170307\ttotal: 2.69s\tremaining: 6.63s\n",
            "289:\tlearn: 1.7136345\ttotal: 2.7s\tremaining: 6.61s\n",
            "290:\tlearn: 1.7078811\ttotal: 2.71s\tremaining: 6.59s\n",
            "291:\tlearn: 1.7035756\ttotal: 2.73s\tremaining: 6.63s\n",
            "292:\tlearn: 1.6990617\ttotal: 2.74s\tremaining: 6.62s\n",
            "293:\tlearn: 1.6951374\ttotal: 2.76s\tremaining: 6.62s\n",
            "294:\tlearn: 1.6891005\ttotal: 2.77s\tremaining: 6.61s\n",
            "295:\tlearn: 1.6871589\ttotal: 2.77s\tremaining: 6.59s\n",
            "296:\tlearn: 1.6833708\ttotal: 2.78s\tremaining: 6.58s\n",
            "297:\tlearn: 1.6788793\ttotal: 2.79s\tremaining: 6.58s\n",
            "298:\tlearn: 1.6781691\ttotal: 2.79s\tremaining: 6.55s\n",
            "299:\tlearn: 1.6728817\ttotal: 2.81s\tremaining: 6.55s\n",
            "300:\tlearn: 1.6682303\ttotal: 2.82s\tremaining: 6.54s\n",
            "301:\tlearn: 1.6651346\ttotal: 2.82s\tremaining: 6.51s\n",
            "302:\tlearn: 1.6632939\ttotal: 2.83s\tremaining: 6.5s\n",
            "303:\tlearn: 1.6626103\ttotal: 2.83s\tremaining: 6.48s\n",
            "304:\tlearn: 1.6581377\ttotal: 2.85s\tremaining: 6.5s\n",
            "305:\tlearn: 1.6538499\ttotal: 2.87s\tremaining: 6.5s\n",
            "306:\tlearn: 1.6491973\ttotal: 2.88s\tremaining: 6.49s\n",
            "307:\tlearn: 1.6450852\ttotal: 2.89s\tremaining: 6.5s\n",
            "308:\tlearn: 1.6417468\ttotal: 2.9s\tremaining: 6.48s\n",
            "309:\tlearn: 1.6362502\ttotal: 2.91s\tremaining: 6.48s\n",
            "310:\tlearn: 1.6342766\ttotal: 2.92s\tremaining: 6.48s\n",
            "311:\tlearn: 1.6306138\ttotal: 2.94s\tremaining: 6.49s\n",
            "312:\tlearn: 1.6273836\ttotal: 2.95s\tremaining: 6.48s\n",
            "313:\tlearn: 1.6258155\ttotal: 2.96s\tremaining: 6.46s\n",
            "314:\tlearn: 1.6218414\ttotal: 2.96s\tremaining: 6.45s\n",
            "315:\tlearn: 1.6185681\ttotal: 2.97s\tremaining: 6.42s\n",
            "316:\tlearn: 1.6170518\ttotal: 2.98s\tremaining: 6.43s\n",
            "317:\tlearn: 1.6117463\ttotal: 3s\tremaining: 6.44s\n",
            "318:\tlearn: 1.6102616\ttotal: 3.01s\tremaining: 6.42s\n",
            "319:\tlearn: 1.6057976\ttotal: 3.02s\tremaining: 6.43s\n",
            "320:\tlearn: 1.6043644\ttotal: 3.03s\tremaining: 6.42s\n",
            "321:\tlearn: 1.5998965\ttotal: 3.05s\tremaining: 6.41s\n",
            "322:\tlearn: 1.5951433\ttotal: 3.05s\tremaining: 6.4s\n",
            "323:\tlearn: 1.5944652\ttotal: 3.06s\tremaining: 6.39s\n",
            "324:\tlearn: 1.5903714\ttotal: 3.07s\tremaining: 6.38s\n",
            "325:\tlearn: 1.5878815\ttotal: 3.08s\tremaining: 6.37s\n",
            "326:\tlearn: 1.5851588\ttotal: 3.09s\tremaining: 6.36s\n",
            "327:\tlearn: 1.5819121\ttotal: 3.1s\tremaining: 6.36s\n",
            "328:\tlearn: 1.5782057\ttotal: 3.12s\tremaining: 6.36s\n",
            "329:\tlearn: 1.5766678\ttotal: 3.12s\tremaining: 6.34s\n",
            "330:\tlearn: 1.5732651\ttotal: 3.13s\tremaining: 6.33s\n",
            "331:\tlearn: 1.5727857\ttotal: 3.15s\tremaining: 6.33s\n",
            "332:\tlearn: 1.5723335\ttotal: 3.15s\tremaining: 6.31s\n",
            "333:\tlearn: 1.5670138\ttotal: 3.16s\tremaining: 6.3s\n",
            "334:\tlearn: 1.5664141\ttotal: 3.17s\tremaining: 6.28s\n",
            "335:\tlearn: 1.5636281\ttotal: 3.17s\tremaining: 6.27s\n",
            "336:\tlearn: 1.5599170\ttotal: 3.18s\tremaining: 6.25s\n",
            "337:\tlearn: 1.5530790\ttotal: 3.18s\tremaining: 6.24s\n",
            "338:\tlearn: 1.5463992\ttotal: 3.19s\tremaining: 6.23s\n",
            "339:\tlearn: 1.5447648\ttotal: 3.2s\tremaining: 6.22s\n",
            "340:\tlearn: 1.5433309\ttotal: 3.21s\tremaining: 6.21s\n",
            "341:\tlearn: 1.5420999\ttotal: 3.23s\tremaining: 6.22s\n",
            "342:\tlearn: 1.5381265\ttotal: 3.24s\tremaining: 6.2s\n",
            "343:\tlearn: 1.5348134\ttotal: 3.24s\tremaining: 6.18s\n",
            "344:\tlearn: 1.5334402\ttotal: 3.25s\tremaining: 6.17s\n",
            "345:\tlearn: 1.5295896\ttotal: 3.26s\tremaining: 6.16s\n",
            "346:\tlearn: 1.5291851\ttotal: 3.26s\tremaining: 6.14s\n",
            "347:\tlearn: 1.5260949\ttotal: 3.27s\tremaining: 6.13s\n",
            "348:\tlearn: 1.5231651\ttotal: 3.28s\tremaining: 6.13s\n",
            "349:\tlearn: 1.5182692\ttotal: 3.29s\tremaining: 6.11s\n",
            "350:\tlearn: 1.5138889\ttotal: 3.3s\tremaining: 6.1s\n",
            "351:\tlearn: 1.5096139\ttotal: 3.31s\tremaining: 6.09s\n",
            "352:\tlearn: 1.5060188\ttotal: 3.32s\tremaining: 6.08s\n",
            "353:\tlearn: 1.5054904\ttotal: 3.32s\tremaining: 6.06s\n",
            "354:\tlearn: 1.5027514\ttotal: 3.32s\tremaining: 6.04s\n",
            "355:\tlearn: 1.5023049\ttotal: 3.33s\tremaining: 6.03s\n",
            "356:\tlearn: 1.5018322\ttotal: 3.33s\tremaining: 6.01s\n",
            "357:\tlearn: 1.4976700\ttotal: 3.34s\tremaining: 6s\n",
            "358:\tlearn: 1.4962623\ttotal: 3.35s\tremaining: 5.99s\n",
            "359:\tlearn: 1.4948107\ttotal: 3.36s\tremaining: 5.97s\n",
            "360:\tlearn: 1.4900711\ttotal: 3.36s\tremaining: 5.95s\n",
            "361:\tlearn: 1.4893237\ttotal: 3.36s\tremaining: 5.93s\n",
            "362:\tlearn: 1.4836516\ttotal: 3.38s\tremaining: 5.93s\n",
            "363:\tlearn: 1.4832163\ttotal: 3.38s\tremaining: 5.9s\n",
            "364:\tlearn: 1.4823074\ttotal: 3.39s\tremaining: 5.9s\n",
            "365:\tlearn: 1.4796279\ttotal: 3.39s\tremaining: 5.88s\n",
            "366:\tlearn: 1.4792196\ttotal: 3.4s\tremaining: 5.87s\n",
            "367:\tlearn: 1.4762032\ttotal: 3.41s\tremaining: 5.85s\n",
            "368:\tlearn: 1.4755800\ttotal: 3.41s\tremaining: 5.84s\n",
            "369:\tlearn: 1.4733129\ttotal: 3.42s\tremaining: 5.82s\n",
            "370:\tlearn: 1.4669333\ttotal: 3.43s\tremaining: 5.81s\n",
            "371:\tlearn: 1.4640693\ttotal: 3.44s\tremaining: 5.8s\n",
            "372:\tlearn: 1.4611623\ttotal: 3.45s\tremaining: 5.79s\n",
            "373:\tlearn: 1.4586406\ttotal: 3.46s\tremaining: 5.79s\n",
            "374:\tlearn: 1.4580371\ttotal: 3.47s\tremaining: 5.78s\n",
            "375:\tlearn: 1.4553026\ttotal: 3.47s\tremaining: 5.76s\n",
            "376:\tlearn: 1.4521638\ttotal: 3.48s\tremaining: 5.75s\n",
            "377:\tlearn: 1.4486767\ttotal: 3.49s\tremaining: 5.74s\n",
            "378:\tlearn: 1.4454121\ttotal: 3.49s\tremaining: 5.73s\n",
            "379:\tlearn: 1.4448245\ttotal: 3.5s\tremaining: 5.72s\n",
            "380:\tlearn: 1.4444098\ttotal: 3.51s\tremaining: 5.71s\n",
            "381:\tlearn: 1.4411193\ttotal: 3.52s\tremaining: 5.7s\n",
            "382:\tlearn: 1.4371518\ttotal: 3.53s\tremaining: 5.69s\n",
            "383:\tlearn: 1.4329323\ttotal: 3.54s\tremaining: 5.68s\n",
            "384:\tlearn: 1.4299567\ttotal: 3.55s\tremaining: 5.68s\n",
            "385:\tlearn: 1.4270001\ttotal: 3.56s\tremaining: 5.66s\n",
            "386:\tlearn: 1.4233921\ttotal: 3.57s\tremaining: 5.65s\n",
            "387:\tlearn: 1.4207922\ttotal: 3.57s\tremaining: 5.64s\n",
            "388:\tlearn: 1.4188600\ttotal: 3.58s\tremaining: 5.62s\n",
            "389:\tlearn: 1.4146931\ttotal: 3.59s\tremaining: 5.62s\n",
            "390:\tlearn: 1.4114604\ttotal: 3.6s\tremaining: 5.61s\n",
            "391:\tlearn: 1.4089040\ttotal: 3.61s\tremaining: 5.6s\n",
            "392:\tlearn: 1.4055126\ttotal: 3.61s\tremaining: 5.58s\n",
            "393:\tlearn: 1.3996922\ttotal: 3.63s\tremaining: 5.58s\n",
            "394:\tlearn: 1.3992964\ttotal: 3.65s\tremaining: 5.58s\n",
            "395:\tlearn: 1.3965511\ttotal: 3.65s\tremaining: 5.58s\n",
            "396:\tlearn: 1.3942097\ttotal: 3.66s\tremaining: 5.56s\n",
            "397:\tlearn: 1.3938082\ttotal: 3.69s\tremaining: 5.58s\n",
            "398:\tlearn: 1.3882664\ttotal: 3.71s\tremaining: 5.58s\n",
            "399:\tlearn: 1.3821393\ttotal: 3.72s\tremaining: 5.58s\n",
            "400:\tlearn: 1.3787986\ttotal: 3.74s\tremaining: 5.58s\n",
            "401:\tlearn: 1.3775827\ttotal: 3.76s\tremaining: 5.59s\n",
            "402:\tlearn: 1.3764065\ttotal: 3.77s\tremaining: 5.58s\n",
            "403:\tlearn: 1.3723332\ttotal: 3.78s\tremaining: 5.58s\n",
            "404:\tlearn: 1.3690051\ttotal: 3.8s\tremaining: 5.58s\n",
            "405:\tlearn: 1.3656045\ttotal: 3.81s\tremaining: 5.57s\n",
            "406:\tlearn: 1.3632598\ttotal: 3.83s\tremaining: 5.58s\n",
            "407:\tlearn: 1.3601208\ttotal: 3.85s\tremaining: 5.58s\n",
            "408:\tlearn: 1.3588836\ttotal: 3.86s\tremaining: 5.58s\n",
            "409:\tlearn: 1.3570895\ttotal: 3.87s\tremaining: 5.58s\n",
            "410:\tlearn: 1.3536885\ttotal: 3.9s\tremaining: 5.58s\n",
            "411:\tlearn: 1.3497220\ttotal: 3.92s\tremaining: 5.59s\n",
            "412:\tlearn: 1.3486569\ttotal: 3.93s\tremaining: 5.59s\n",
            "413:\tlearn: 1.3483810\ttotal: 3.95s\tremaining: 5.59s\n",
            "414:\tlearn: 1.3450113\ttotal: 3.97s\tremaining: 5.59s\n",
            "415:\tlearn: 1.3420259\ttotal: 3.98s\tremaining: 5.59s\n",
            "416:\tlearn: 1.3387677\ttotal: 4s\tremaining: 5.59s\n",
            "417:\tlearn: 1.3382672\ttotal: 4.02s\tremaining: 5.6s\n",
            "418:\tlearn: 1.3367607\ttotal: 4.04s\tremaining: 5.61s\n",
            "419:\tlearn: 1.3330423\ttotal: 4.07s\tremaining: 5.63s\n",
            "420:\tlearn: 1.3300051\ttotal: 4.08s\tremaining: 5.62s\n",
            "421:\tlearn: 1.3275567\ttotal: 4.1s\tremaining: 5.61s\n",
            "422:\tlearn: 1.3251916\ttotal: 4.11s\tremaining: 5.6s\n",
            "423:\tlearn: 1.3230344\ttotal: 4.12s\tremaining: 5.59s\n",
            "424:\tlearn: 1.3194598\ttotal: 4.13s\tremaining: 5.58s\n",
            "425:\tlearn: 1.3162974\ttotal: 4.13s\tremaining: 5.57s\n",
            "426:\tlearn: 1.3158186\ttotal: 4.14s\tremaining: 5.56s\n",
            "427:\tlearn: 1.3150269\ttotal: 4.15s\tremaining: 5.55s\n",
            "428:\tlearn: 1.3147507\ttotal: 4.16s\tremaining: 5.54s\n",
            "429:\tlearn: 1.3144929\ttotal: 4.16s\tremaining: 5.52s\n",
            "430:\tlearn: 1.3115714\ttotal: 4.17s\tremaining: 5.5s\n",
            "431:\tlearn: 1.3093872\ttotal: 4.18s\tremaining: 5.49s\n",
            "432:\tlearn: 1.3087508\ttotal: 4.19s\tremaining: 5.49s\n",
            "433:\tlearn: 1.3082125\ttotal: 4.2s\tremaining: 5.48s\n",
            "434:\tlearn: 1.3055031\ttotal: 4.21s\tremaining: 5.46s\n",
            "435:\tlearn: 1.3025414\ttotal: 4.21s\tremaining: 5.44s\n",
            "436:\tlearn: 1.2980648\ttotal: 4.22s\tremaining: 5.43s\n",
            "437:\tlearn: 1.2946208\ttotal: 4.23s\tremaining: 5.42s\n",
            "438:\tlearn: 1.2908225\ttotal: 4.23s\tremaining: 5.4s\n",
            "439:\tlearn: 1.2903733\ttotal: 4.24s\tremaining: 5.39s\n",
            "440:\tlearn: 1.2868311\ttotal: 4.24s\tremaining: 5.37s\n",
            "441:\tlearn: 1.2833811\ttotal: 4.26s\tremaining: 5.38s\n",
            "442:\tlearn: 1.2805440\ttotal: 4.27s\tremaining: 5.37s\n",
            "443:\tlearn: 1.2775287\ttotal: 4.28s\tremaining: 5.36s\n",
            "444:\tlearn: 1.2769197\ttotal: 4.29s\tremaining: 5.34s\n",
            "445:\tlearn: 1.2763266\ttotal: 4.29s\tremaining: 5.33s\n",
            "446:\tlearn: 1.2739980\ttotal: 4.3s\tremaining: 5.32s\n",
            "447:\tlearn: 1.2724683\ttotal: 4.31s\tremaining: 5.32s\n",
            "448:\tlearn: 1.2695142\ttotal: 4.33s\tremaining: 5.31s\n",
            "449:\tlearn: 1.2692954\ttotal: 4.33s\tremaining: 5.29s\n",
            "450:\tlearn: 1.2668573\ttotal: 4.34s\tremaining: 5.28s\n",
            "451:\tlearn: 1.2640473\ttotal: 4.35s\tremaining: 5.27s\n",
            "452:\tlearn: 1.2618860\ttotal: 4.35s\tremaining: 5.26s\n",
            "453:\tlearn: 1.2568992\ttotal: 4.36s\tremaining: 5.25s\n",
            "454:\tlearn: 1.2544644\ttotal: 4.37s\tremaining: 5.23s\n",
            "455:\tlearn: 1.2514090\ttotal: 4.37s\tremaining: 5.22s\n",
            "456:\tlearn: 1.2509229\ttotal: 4.38s\tremaining: 5.2s\n",
            "457:\tlearn: 1.2502591\ttotal: 4.38s\tremaining: 5.19s\n",
            "458:\tlearn: 1.2490012\ttotal: 4.4s\tremaining: 5.18s\n",
            "459:\tlearn: 1.2483571\ttotal: 4.4s\tremaining: 5.17s\n",
            "460:\tlearn: 1.2455226\ttotal: 4.4s\tremaining: 5.15s\n",
            "461:\tlearn: 1.2422293\ttotal: 4.41s\tremaining: 5.14s\n",
            "462:\tlearn: 1.2411210\ttotal: 4.42s\tremaining: 5.12s\n",
            "463:\tlearn: 1.2366457\ttotal: 4.43s\tremaining: 5.11s\n",
            "464:\tlearn: 1.2321966\ttotal: 4.43s\tremaining: 5.1s\n",
            "465:\tlearn: 1.2290202\ttotal: 4.44s\tremaining: 5.09s\n",
            "466:\tlearn: 1.2266481\ttotal: 4.44s\tremaining: 5.07s\n",
            "467:\tlearn: 1.2264214\ttotal: 4.46s\tremaining: 5.07s\n",
            "468:\tlearn: 1.2248256\ttotal: 4.46s\tremaining: 5.05s\n",
            "469:\tlearn: 1.2206695\ttotal: 4.47s\tremaining: 5.04s\n",
            "470:\tlearn: 1.2200502\ttotal: 4.48s\tremaining: 5.03s\n",
            "471:\tlearn: 1.2176379\ttotal: 4.5s\tremaining: 5.03s\n",
            "472:\tlearn: 1.2154515\ttotal: 4.5s\tremaining: 5.01s\n",
            "473:\tlearn: 1.2127010\ttotal: 4.51s\tremaining: 5.01s\n",
            "474:\tlearn: 1.2088339\ttotal: 4.52s\tremaining: 4.99s\n",
            "475:\tlearn: 1.2067731\ttotal: 4.53s\tremaining: 4.99s\n",
            "476:\tlearn: 1.2043433\ttotal: 4.54s\tremaining: 4.98s\n",
            "477:\tlearn: 1.2013241\ttotal: 4.55s\tremaining: 4.97s\n",
            "478:\tlearn: 1.2007995\ttotal: 4.56s\tremaining: 4.96s\n",
            "479:\tlearn: 1.1963039\ttotal: 4.57s\tremaining: 4.95s\n",
            "480:\tlearn: 1.1927185\ttotal: 4.58s\tremaining: 4.94s\n",
            "481:\tlearn: 1.1889791\ttotal: 4.6s\tremaining: 4.95s\n",
            "482:\tlearn: 1.1881783\ttotal: 4.61s\tremaining: 4.93s\n",
            "483:\tlearn: 1.1863486\ttotal: 4.62s\tremaining: 4.92s\n",
            "484:\tlearn: 1.1851451\ttotal: 4.63s\tremaining: 4.91s\n",
            "485:\tlearn: 1.1823140\ttotal: 4.63s\tremaining: 4.9s\n",
            "486:\tlearn: 1.1817320\ttotal: 4.65s\tremaining: 4.9s\n",
            "487:\tlearn: 1.1795435\ttotal: 4.67s\tremaining: 4.9s\n",
            "488:\tlearn: 1.1788723\ttotal: 4.69s\tremaining: 4.9s\n",
            "489:\tlearn: 1.1765930\ttotal: 4.69s\tremaining: 4.88s\n",
            "490:\tlearn: 1.1737634\ttotal: 4.71s\tremaining: 4.88s\n",
            "491:\tlearn: 1.1714130\ttotal: 4.72s\tremaining: 4.87s\n",
            "492:\tlearn: 1.1695595\ttotal: 4.73s\tremaining: 4.87s\n",
            "493:\tlearn: 1.1658992\ttotal: 4.74s\tremaining: 4.86s\n",
            "494:\tlearn: 1.1646405\ttotal: 4.76s\tremaining: 4.85s\n",
            "495:\tlearn: 1.1640309\ttotal: 4.78s\tremaining: 4.85s\n",
            "496:\tlearn: 1.1626049\ttotal: 4.78s\tremaining: 4.84s\n",
            "497:\tlearn: 1.1614229\ttotal: 4.8s\tremaining: 4.84s\n",
            "498:\tlearn: 1.1605496\ttotal: 4.82s\tremaining: 4.84s\n",
            "499:\tlearn: 1.1584296\ttotal: 4.84s\tremaining: 4.84s\n",
            "500:\tlearn: 1.1565396\ttotal: 4.85s\tremaining: 4.83s\n",
            "501:\tlearn: 1.1549092\ttotal: 4.87s\tremaining: 4.83s\n",
            "502:\tlearn: 1.1523379\ttotal: 4.88s\tremaining: 4.82s\n",
            "503:\tlearn: 1.1501533\ttotal: 4.9s\tremaining: 4.83s\n",
            "504:\tlearn: 1.1478242\ttotal: 4.93s\tremaining: 4.83s\n",
            "505:\tlearn: 1.1434569\ttotal: 4.95s\tremaining: 4.83s\n",
            "506:\tlearn: 1.1412404\ttotal: 4.96s\tremaining: 4.82s\n",
            "507:\tlearn: 1.1375493\ttotal: 4.98s\tremaining: 4.82s\n",
            "508:\tlearn: 1.1357168\ttotal: 4.99s\tremaining: 4.81s\n",
            "509:\tlearn: 1.1310625\ttotal: 5.01s\tremaining: 4.81s\n",
            "510:\tlearn: 1.1288717\ttotal: 5.02s\tremaining: 4.8s\n",
            "511:\tlearn: 1.1266911\ttotal: 5.03s\tremaining: 4.79s\n",
            "512:\tlearn: 1.1248644\ttotal: 5.04s\tremaining: 4.79s\n",
            "513:\tlearn: 1.1243642\ttotal: 5.05s\tremaining: 4.78s\n",
            "514:\tlearn: 1.1223022\ttotal: 5.07s\tremaining: 4.77s\n",
            "515:\tlearn: 1.1220996\ttotal: 5.08s\tremaining: 4.77s\n",
            "516:\tlearn: 1.1197880\ttotal: 5.09s\tremaining: 4.76s\n",
            "517:\tlearn: 1.1170664\ttotal: 5.11s\tremaining: 4.75s\n",
            "518:\tlearn: 1.1139301\ttotal: 5.12s\tremaining: 4.75s\n",
            "519:\tlearn: 1.1137134\ttotal: 5.13s\tremaining: 4.74s\n",
            "520:\tlearn: 1.1119111\ttotal: 5.15s\tremaining: 4.74s\n",
            "521:\tlearn: 1.1090241\ttotal: 5.16s\tremaining: 4.73s\n",
            "522:\tlearn: 1.1069782\ttotal: 5.19s\tremaining: 4.73s\n",
            "523:\tlearn: 1.1049969\ttotal: 5.2s\tremaining: 4.72s\n",
            "524:\tlearn: 1.1045032\ttotal: 5.21s\tremaining: 4.72s\n",
            "525:\tlearn: 1.1040290\ttotal: 5.25s\tremaining: 4.73s\n",
            "526:\tlearn: 1.0995735\ttotal: 5.25s\tremaining: 4.71s\n",
            "527:\tlearn: 1.0975697\ttotal: 5.26s\tremaining: 4.71s\n",
            "528:\tlearn: 1.0958516\ttotal: 5.27s\tremaining: 4.7s\n",
            "529:\tlearn: 1.0935724\ttotal: 5.29s\tremaining: 4.69s\n",
            "530:\tlearn: 1.0933532\ttotal: 5.3s\tremaining: 4.68s\n",
            "531:\tlearn: 1.0921072\ttotal: 5.32s\tremaining: 4.68s\n",
            "532:\tlearn: 1.0917021\ttotal: 5.33s\tremaining: 4.67s\n",
            "533:\tlearn: 1.0889109\ttotal: 5.34s\tremaining: 4.66s\n",
            "534:\tlearn: 1.0873404\ttotal: 5.35s\tremaining: 4.65s\n",
            "535:\tlearn: 1.0839227\ttotal: 5.36s\tremaining: 4.64s\n",
            "536:\tlearn: 1.0820710\ttotal: 5.38s\tremaining: 4.63s\n",
            "537:\tlearn: 1.0793746\ttotal: 5.38s\tremaining: 4.62s\n",
            "538:\tlearn: 1.0767429\ttotal: 5.39s\tremaining: 4.61s\n",
            "539:\tlearn: 1.0737686\ttotal: 5.39s\tremaining: 4.6s\n",
            "540:\tlearn: 1.0727429\ttotal: 5.41s\tremaining: 4.59s\n",
            "541:\tlearn: 1.0698560\ttotal: 5.42s\tremaining: 4.58s\n",
            "542:\tlearn: 1.0670049\ttotal: 5.42s\tremaining: 4.56s\n",
            "543:\tlearn: 1.0645793\ttotal: 5.43s\tremaining: 4.55s\n",
            "544:\tlearn: 1.0621676\ttotal: 5.44s\tremaining: 4.54s\n",
            "545:\tlearn: 1.0593650\ttotal: 5.46s\tremaining: 4.54s\n",
            "546:\tlearn: 1.0569982\ttotal: 5.46s\tremaining: 4.52s\n",
            "547:\tlearn: 1.0543177\ttotal: 5.47s\tremaining: 4.51s\n",
            "548:\tlearn: 1.0516822\ttotal: 5.49s\tremaining: 4.51s\n",
            "549:\tlearn: 1.0498960\ttotal: 5.5s\tremaining: 4.5s\n",
            "550:\tlearn: 1.0470710\ttotal: 5.5s\tremaining: 4.48s\n",
            "551:\tlearn: 1.0447567\ttotal: 5.51s\tremaining: 4.47s\n",
            "552:\tlearn: 1.0427751\ttotal: 5.52s\tremaining: 4.46s\n",
            "553:\tlearn: 1.0404863\ttotal: 5.53s\tremaining: 4.45s\n",
            "554:\tlearn: 1.0388434\ttotal: 5.55s\tremaining: 4.45s\n",
            "555:\tlearn: 1.0368408\ttotal: 5.58s\tremaining: 4.45s\n",
            "556:\tlearn: 1.0338949\ttotal: 5.59s\tremaining: 4.45s\n",
            "557:\tlearn: 1.0326545\ttotal: 5.61s\tremaining: 4.44s\n",
            "558:\tlearn: 1.0308090\ttotal: 5.62s\tremaining: 4.44s\n",
            "559:\tlearn: 1.0286932\ttotal: 5.65s\tremaining: 4.44s\n",
            "560:\tlearn: 1.0271260\ttotal: 5.66s\tremaining: 4.42s\n",
            "561:\tlearn: 1.0245203\ttotal: 5.67s\tremaining: 4.42s\n",
            "562:\tlearn: 1.0229739\ttotal: 5.68s\tremaining: 4.41s\n",
            "563:\tlearn: 1.0217930\ttotal: 5.7s\tremaining: 4.41s\n",
            "564:\tlearn: 1.0193074\ttotal: 5.71s\tremaining: 4.4s\n",
            "565:\tlearn: 1.0178093\ttotal: 5.72s\tremaining: 4.39s\n",
            "566:\tlearn: 1.0148131\ttotal: 5.74s\tremaining: 4.38s\n",
            "567:\tlearn: 1.0107065\ttotal: 5.74s\tremaining: 4.37s\n",
            "568:\tlearn: 1.0079803\ttotal: 5.77s\tremaining: 4.37s\n",
            "569:\tlearn: 1.0067646\ttotal: 5.78s\tremaining: 4.36s\n",
            "570:\tlearn: 1.0065278\ttotal: 5.78s\tremaining: 4.35s\n",
            "571:\tlearn: 1.0050310\ttotal: 5.8s\tremaining: 4.34s\n",
            "572:\tlearn: 1.0020338\ttotal: 5.82s\tremaining: 4.33s\n",
            "573:\tlearn: 1.0015065\ttotal: 5.83s\tremaining: 4.32s\n",
            "574:\tlearn: 0.9999264\ttotal: 5.83s\tremaining: 4.31s\n",
            "575:\tlearn: 0.9977773\ttotal: 5.84s\tremaining: 4.3s\n",
            "576:\tlearn: 0.9958449\ttotal: 5.86s\tremaining: 4.29s\n",
            "577:\tlearn: 0.9933841\ttotal: 5.87s\tremaining: 4.29s\n",
            "578:\tlearn: 0.9929913\ttotal: 5.89s\tremaining: 4.28s\n",
            "579:\tlearn: 0.9897648\ttotal: 5.89s\tremaining: 4.27s\n",
            "580:\tlearn: 0.9879395\ttotal: 5.9s\tremaining: 4.26s\n",
            "581:\tlearn: 0.9869712\ttotal: 5.91s\tremaining: 4.25s\n",
            "582:\tlearn: 0.9836774\ttotal: 5.93s\tremaining: 4.24s\n",
            "583:\tlearn: 0.9817954\ttotal: 5.93s\tremaining: 4.22s\n",
            "584:\tlearn: 0.9801294\ttotal: 5.94s\tremaining: 4.21s\n",
            "585:\tlearn: 0.9774320\ttotal: 5.95s\tremaining: 4.2s\n",
            "586:\tlearn: 0.9759413\ttotal: 5.96s\tremaining: 4.19s\n",
            "587:\tlearn: 0.9753614\ttotal: 5.96s\tremaining: 4.18s\n",
            "588:\tlearn: 0.9736141\ttotal: 5.98s\tremaining: 4.17s\n",
            "589:\tlearn: 0.9726581\ttotal: 5.98s\tremaining: 4.16s\n",
            "590:\tlearn: 0.9711275\ttotal: 5.99s\tremaining: 4.15s\n",
            "591:\tlearn: 0.9673142\ttotal: 6s\tremaining: 4.14s\n",
            "592:\tlearn: 0.9659206\ttotal: 6s\tremaining: 4.12s\n",
            "593:\tlearn: 0.9645479\ttotal: 6.01s\tremaining: 4.11s\n",
            "594:\tlearn: 0.9610821\ttotal: 6.02s\tremaining: 4.1s\n",
            "595:\tlearn: 0.9598873\ttotal: 6.03s\tremaining: 4.09s\n",
            "596:\tlearn: 0.9577732\ttotal: 6.03s\tremaining: 4.07s\n",
            "597:\tlearn: 0.9575704\ttotal: 6.04s\tremaining: 4.06s\n",
            "598:\tlearn: 0.9560733\ttotal: 6.05s\tremaining: 4.05s\n",
            "599:\tlearn: 0.9530207\ttotal: 6.05s\tremaining: 4.04s\n",
            "600:\tlearn: 0.9499828\ttotal: 6.06s\tremaining: 4.02s\n",
            "601:\tlearn: 0.9488593\ttotal: 6.07s\tremaining: 4.01s\n",
            "602:\tlearn: 0.9467803\ttotal: 6.08s\tremaining: 4s\n",
            "603:\tlearn: 0.9457004\ttotal: 6.09s\tremaining: 3.99s\n",
            "604:\tlearn: 0.9446979\ttotal: 6.1s\tremaining: 3.98s\n",
            "605:\tlearn: 0.9433651\ttotal: 6.1s\tremaining: 3.97s\n",
            "606:\tlearn: 0.9418510\ttotal: 6.11s\tremaining: 3.96s\n",
            "607:\tlearn: 0.9402481\ttotal: 6.12s\tremaining: 3.94s\n",
            "608:\tlearn: 0.9382526\ttotal: 6.13s\tremaining: 3.94s\n",
            "609:\tlearn: 0.9358805\ttotal: 6.13s\tremaining: 3.92s\n",
            "610:\tlearn: 0.9356803\ttotal: 6.13s\tremaining: 3.9s\n",
            "611:\tlearn: 0.9336997\ttotal: 6.14s\tremaining: 3.89s\n",
            "612:\tlearn: 0.9327475\ttotal: 6.15s\tremaining: 3.88s\n",
            "613:\tlearn: 0.9307193\ttotal: 6.16s\tremaining: 3.87s\n",
            "614:\tlearn: 0.9297507\ttotal: 6.17s\tremaining: 3.86s\n",
            "615:\tlearn: 0.9294307\ttotal: 6.17s\tremaining: 3.85s\n",
            "616:\tlearn: 0.9271955\ttotal: 6.18s\tremaining: 3.84s\n",
            "617:\tlearn: 0.9269884\ttotal: 6.19s\tremaining: 3.82s\n",
            "618:\tlearn: 0.9247942\ttotal: 6.2s\tremaining: 3.81s\n",
            "619:\tlearn: 0.9239429\ttotal: 6.21s\tremaining: 3.8s\n",
            "620:\tlearn: 0.9218682\ttotal: 6.21s\tremaining: 3.79s\n",
            "621:\tlearn: 0.9193464\ttotal: 6.22s\tremaining: 3.78s\n",
            "622:\tlearn: 0.9175225\ttotal: 6.23s\tremaining: 3.77s\n",
            "623:\tlearn: 0.9171374\ttotal: 6.23s\tremaining: 3.75s\n",
            "624:\tlearn: 0.9151960\ttotal: 6.24s\tremaining: 3.74s\n",
            "625:\tlearn: 0.9134589\ttotal: 6.25s\tremaining: 3.73s\n",
            "626:\tlearn: 0.9110591\ttotal: 6.26s\tremaining: 3.72s\n",
            "627:\tlearn: 0.9088247\ttotal: 6.27s\tremaining: 3.71s\n",
            "628:\tlearn: 0.9069037\ttotal: 6.28s\tremaining: 3.71s\n",
            "629:\tlearn: 0.9054233\ttotal: 6.29s\tremaining: 3.69s\n",
            "630:\tlearn: 0.9034003\ttotal: 6.29s\tremaining: 3.68s\n",
            "631:\tlearn: 0.9031284\ttotal: 6.31s\tremaining: 3.67s\n",
            "632:\tlearn: 0.9017481\ttotal: 6.31s\tremaining: 3.66s\n",
            "633:\tlearn: 0.9007444\ttotal: 6.32s\tremaining: 3.65s\n",
            "634:\tlearn: 0.9000281\ttotal: 6.33s\tremaining: 3.64s\n",
            "635:\tlearn: 0.8984815\ttotal: 6.33s\tremaining: 3.62s\n",
            "636:\tlearn: 0.8968671\ttotal: 6.34s\tremaining: 3.61s\n",
            "637:\tlearn: 0.8966568\ttotal: 6.36s\tremaining: 3.61s\n",
            "638:\tlearn: 0.8943001\ttotal: 6.36s\tremaining: 3.59s\n",
            "639:\tlearn: 0.8928125\ttotal: 6.37s\tremaining: 3.58s\n",
            "640:\tlearn: 0.8917078\ttotal: 6.39s\tremaining: 3.58s\n",
            "641:\tlearn: 0.8898468\ttotal: 6.39s\tremaining: 3.56s\n",
            "642:\tlearn: 0.8888946\ttotal: 6.41s\tremaining: 3.56s\n",
            "643:\tlearn: 0.8872018\ttotal: 6.41s\tremaining: 3.54s\n",
            "644:\tlearn: 0.8863046\ttotal: 6.42s\tremaining: 3.53s\n",
            "645:\tlearn: 0.8837515\ttotal: 6.43s\tremaining: 3.52s\n",
            "646:\tlearn: 0.8815547\ttotal: 6.44s\tremaining: 3.51s\n",
            "647:\tlearn: 0.8793913\ttotal: 6.44s\tremaining: 3.5s\n",
            "648:\tlearn: 0.8784068\ttotal: 6.45s\tremaining: 3.49s\n",
            "649:\tlearn: 0.8762458\ttotal: 6.46s\tremaining: 3.48s\n",
            "650:\tlearn: 0.8737166\ttotal: 6.49s\tremaining: 3.48s\n",
            "651:\tlearn: 0.8728830\ttotal: 6.5s\tremaining: 3.47s\n",
            "652:\tlearn: 0.8718493\ttotal: 6.5s\tremaining: 3.46s\n",
            "653:\tlearn: 0.8716777\ttotal: 6.51s\tremaining: 3.44s\n",
            "654:\tlearn: 0.8695076\ttotal: 6.51s\tremaining: 3.43s\n",
            "655:\tlearn: 0.8683806\ttotal: 6.53s\tremaining: 3.42s\n",
            "656:\tlearn: 0.8664583\ttotal: 6.54s\tremaining: 3.41s\n",
            "657:\tlearn: 0.8650006\ttotal: 6.54s\tremaining: 3.4s\n",
            "658:\tlearn: 0.8629389\ttotal: 6.55s\tremaining: 3.39s\n",
            "659:\tlearn: 0.8618135\ttotal: 6.55s\tremaining: 3.38s\n",
            "660:\tlearn: 0.8604856\ttotal: 6.55s\tremaining: 3.36s\n",
            "661:\tlearn: 0.8593892\ttotal: 6.56s\tremaining: 3.35s\n",
            "662:\tlearn: 0.8576921\ttotal: 6.57s\tremaining: 3.34s\n",
            "663:\tlearn: 0.8564487\ttotal: 6.58s\tremaining: 3.33s\n",
            "664:\tlearn: 0.8544440\ttotal: 6.58s\tremaining: 3.32s\n",
            "665:\tlearn: 0.8531348\ttotal: 6.59s\tremaining: 3.3s\n",
            "666:\tlearn: 0.8517250\ttotal: 6.6s\tremaining: 3.29s\n",
            "667:\tlearn: 0.8501891\ttotal: 6.6s\tremaining: 3.28s\n",
            "668:\tlearn: 0.8499424\ttotal: 6.61s\tremaining: 3.27s\n",
            "669:\tlearn: 0.8493873\ttotal: 6.61s\tremaining: 3.25s\n",
            "670:\tlearn: 0.8491571\ttotal: 6.62s\tremaining: 3.25s\n",
            "671:\tlearn: 0.8473620\ttotal: 6.62s\tremaining: 3.23s\n",
            "672:\tlearn: 0.8458584\ttotal: 6.63s\tremaining: 3.22s\n",
            "673:\tlearn: 0.8438085\ttotal: 6.64s\tremaining: 3.21s\n",
            "674:\tlearn: 0.8418368\ttotal: 6.64s\tremaining: 3.2s\n",
            "675:\tlearn: 0.8392055\ttotal: 6.65s\tremaining: 3.19s\n",
            "676:\tlearn: 0.8376314\ttotal: 6.67s\tremaining: 3.18s\n",
            "677:\tlearn: 0.8359594\ttotal: 6.69s\tremaining: 3.18s\n",
            "678:\tlearn: 0.8342724\ttotal: 6.69s\tremaining: 3.16s\n",
            "679:\tlearn: 0.8330366\ttotal: 6.7s\tremaining: 3.15s\n",
            "680:\tlearn: 0.8315030\ttotal: 6.71s\tremaining: 3.14s\n",
            "681:\tlearn: 0.8302106\ttotal: 6.71s\tremaining: 3.13s\n",
            "682:\tlearn: 0.8297864\ttotal: 6.72s\tremaining: 3.12s\n",
            "683:\tlearn: 0.8287485\ttotal: 6.73s\tremaining: 3.11s\n",
            "684:\tlearn: 0.8282478\ttotal: 6.73s\tremaining: 3.1s\n",
            "685:\tlearn: 0.8270609\ttotal: 6.74s\tremaining: 3.08s\n",
            "686:\tlearn: 0.8261659\ttotal: 6.75s\tremaining: 3.07s\n",
            "687:\tlearn: 0.8235149\ttotal: 6.77s\tremaining: 3.07s\n",
            "688:\tlearn: 0.8211338\ttotal: 6.78s\tremaining: 3.06s\n",
            "689:\tlearn: 0.8187642\ttotal: 6.79s\tremaining: 3.05s\n",
            "690:\tlearn: 0.8186124\ttotal: 6.81s\tremaining: 3.04s\n",
            "691:\tlearn: 0.8168743\ttotal: 6.82s\tremaining: 3.03s\n",
            "692:\tlearn: 0.8155414\ttotal: 6.83s\tremaining: 3.02s\n",
            "693:\tlearn: 0.8153795\ttotal: 6.83s\tremaining: 3.01s\n",
            "694:\tlearn: 0.8142089\ttotal: 6.84s\tremaining: 3s\n",
            "695:\tlearn: 0.8120114\ttotal: 6.85s\tremaining: 2.99s\n",
            "696:\tlearn: 0.8111157\ttotal: 6.86s\tremaining: 2.98s\n",
            "697:\tlearn: 0.8098344\ttotal: 6.87s\tremaining: 2.97s\n",
            "698:\tlearn: 0.8080507\ttotal: 6.88s\tremaining: 2.96s\n",
            "699:\tlearn: 0.8067327\ttotal: 6.89s\tremaining: 2.96s\n",
            "700:\tlearn: 0.8052487\ttotal: 6.91s\tremaining: 2.95s\n",
            "701:\tlearn: 0.8039798\ttotal: 6.92s\tremaining: 2.94s\n",
            "702:\tlearn: 0.8037418\ttotal: 6.92s\tremaining: 2.92s\n",
            "703:\tlearn: 0.8018317\ttotal: 6.93s\tremaining: 2.91s\n",
            "704:\tlearn: 0.8001880\ttotal: 6.94s\tremaining: 2.9s\n",
            "705:\tlearn: 0.8000324\ttotal: 6.97s\tremaining: 2.9s\n",
            "706:\tlearn: 0.7987267\ttotal: 6.98s\tremaining: 2.89s\n",
            "707:\tlearn: 0.7972574\ttotal: 7s\tremaining: 2.88s\n",
            "708:\tlearn: 0.7956884\ttotal: 7.01s\tremaining: 2.88s\n",
            "709:\tlearn: 0.7943380\ttotal: 7.02s\tremaining: 2.87s\n",
            "710:\tlearn: 0.7934259\ttotal: 7.03s\tremaining: 2.85s\n",
            "711:\tlearn: 0.7919777\ttotal: 7.03s\tremaining: 2.84s\n",
            "712:\tlearn: 0.7909995\ttotal: 7.04s\tremaining: 2.83s\n",
            "713:\tlearn: 0.7889780\ttotal: 7.04s\tremaining: 2.82s\n",
            "714:\tlearn: 0.7882322\ttotal: 7.06s\tremaining: 2.81s\n",
            "715:\tlearn: 0.7876433\ttotal: 7.08s\tremaining: 2.81s\n",
            "716:\tlearn: 0.7870933\ttotal: 7.1s\tremaining: 2.8s\n",
            "717:\tlearn: 0.7854470\ttotal: 7.11s\tremaining: 2.79s\n",
            "718:\tlearn: 0.7841805\ttotal: 7.11s\tremaining: 2.78s\n",
            "719:\tlearn: 0.7839193\ttotal: 7.11s\tremaining: 2.77s\n",
            "720:\tlearn: 0.7830790\ttotal: 7.12s\tremaining: 2.75s\n",
            "721:\tlearn: 0.7829386\ttotal: 7.13s\tremaining: 2.74s\n",
            "722:\tlearn: 0.7828017\ttotal: 7.13s\tremaining: 2.73s\n",
            "723:\tlearn: 0.7817274\ttotal: 7.15s\tremaining: 2.73s\n",
            "724:\tlearn: 0.7795410\ttotal: 7.17s\tremaining: 2.72s\n",
            "725:\tlearn: 0.7793585\ttotal: 7.18s\tremaining: 2.71s\n",
            "726:\tlearn: 0.7783754\ttotal: 7.18s\tremaining: 2.7s\n",
            "727:\tlearn: 0.7760936\ttotal: 7.18s\tremaining: 2.68s\n",
            "728:\tlearn: 0.7740702\ttotal: 7.19s\tremaining: 2.67s\n",
            "729:\tlearn: 0.7739185\ttotal: 7.19s\tremaining: 2.66s\n",
            "730:\tlearn: 0.7726729\ttotal: 7.2s\tremaining: 2.65s\n",
            "731:\tlearn: 0.7701545\ttotal: 7.2s\tremaining: 2.64s\n",
            "732:\tlearn: 0.7689243\ttotal: 7.21s\tremaining: 2.63s\n",
            "733:\tlearn: 0.7675744\ttotal: 7.22s\tremaining: 2.62s\n",
            "734:\tlearn: 0.7666141\ttotal: 7.23s\tremaining: 2.6s\n",
            "735:\tlearn: 0.7658025\ttotal: 7.23s\tremaining: 2.59s\n",
            "736:\tlearn: 0.7652697\ttotal: 7.24s\tremaining: 2.58s\n",
            "737:\tlearn: 0.7651448\ttotal: 7.24s\tremaining: 2.57s\n",
            "738:\tlearn: 0.7649890\ttotal: 7.25s\tremaining: 2.56s\n",
            "739:\tlearn: 0.7635320\ttotal: 7.25s\tremaining: 2.55s\n",
            "740:\tlearn: 0.7612172\ttotal: 7.26s\tremaining: 2.54s\n",
            "741:\tlearn: 0.7597993\ttotal: 7.27s\tremaining: 2.53s\n",
            "742:\tlearn: 0.7595659\ttotal: 7.27s\tremaining: 2.52s\n",
            "743:\tlearn: 0.7594159\ttotal: 7.28s\tremaining: 2.5s\n",
            "744:\tlearn: 0.7583099\ttotal: 7.28s\tremaining: 2.49s\n",
            "745:\tlearn: 0.7570125\ttotal: 7.29s\tremaining: 2.48s\n",
            "746:\tlearn: 0.7568666\ttotal: 7.29s\tremaining: 2.47s\n",
            "747:\tlearn: 0.7560960\ttotal: 7.3s\tremaining: 2.46s\n",
            "748:\tlearn: 0.7556969\ttotal: 7.31s\tremaining: 2.45s\n",
            "749:\tlearn: 0.7550669\ttotal: 7.31s\tremaining: 2.44s\n",
            "750:\tlearn: 0.7542617\ttotal: 7.32s\tremaining: 2.43s\n",
            "751:\tlearn: 0.7535913\ttotal: 7.32s\tremaining: 2.42s\n",
            "752:\tlearn: 0.7530742\ttotal: 7.33s\tremaining: 2.41s\n",
            "753:\tlearn: 0.7528653\ttotal: 7.34s\tremaining: 2.39s\n",
            "754:\tlearn: 0.7502474\ttotal: 7.35s\tremaining: 2.38s\n",
            "755:\tlearn: 0.7497127\ttotal: 7.36s\tremaining: 2.37s\n",
            "756:\tlearn: 0.7492457\ttotal: 7.36s\tremaining: 2.36s\n",
            "757:\tlearn: 0.7466466\ttotal: 7.37s\tremaining: 2.35s\n",
            "758:\tlearn: 0.7446973\ttotal: 7.38s\tremaining: 2.34s\n",
            "759:\tlearn: 0.7433924\ttotal: 7.39s\tremaining: 2.33s\n",
            "760:\tlearn: 0.7429625\ttotal: 7.4s\tremaining: 2.32s\n",
            "761:\tlearn: 0.7420307\ttotal: 7.41s\tremaining: 2.31s\n",
            "762:\tlearn: 0.7413416\ttotal: 7.42s\tremaining: 2.3s\n",
            "763:\tlearn: 0.7395648\ttotal: 7.43s\tremaining: 2.29s\n",
            "764:\tlearn: 0.7388047\ttotal: 7.44s\tremaining: 2.29s\n",
            "765:\tlearn: 0.7382981\ttotal: 7.45s\tremaining: 2.27s\n",
            "766:\tlearn: 0.7366475\ttotal: 7.46s\tremaining: 2.27s\n",
            "767:\tlearn: 0.7351477\ttotal: 7.47s\tremaining: 2.26s\n",
            "768:\tlearn: 0.7340842\ttotal: 7.48s\tremaining: 2.25s\n",
            "769:\tlearn: 0.7319861\ttotal: 7.49s\tremaining: 2.24s\n",
            "770:\tlearn: 0.7313618\ttotal: 7.5s\tremaining: 2.23s\n",
            "771:\tlearn: 0.7308796\ttotal: 7.51s\tremaining: 2.22s\n",
            "772:\tlearn: 0.7303693\ttotal: 7.52s\tremaining: 2.21s\n",
            "773:\tlearn: 0.7296825\ttotal: 7.53s\tremaining: 2.2s\n",
            "774:\tlearn: 0.7285380\ttotal: 7.54s\tremaining: 2.19s\n",
            "775:\tlearn: 0.7277900\ttotal: 7.55s\tremaining: 2.18s\n",
            "776:\tlearn: 0.7261654\ttotal: 7.55s\tremaining: 2.17s\n",
            "777:\tlearn: 0.7251740\ttotal: 7.56s\tremaining: 2.16s\n",
            "778:\tlearn: 0.7240167\ttotal: 7.57s\tremaining: 2.15s\n",
            "779:\tlearn: 0.7239097\ttotal: 7.57s\tremaining: 2.14s\n",
            "780:\tlearn: 0.7229157\ttotal: 7.58s\tremaining: 2.13s\n",
            "781:\tlearn: 0.7215229\ttotal: 7.59s\tremaining: 2.11s\n",
            "782:\tlearn: 0.7213966\ttotal: 7.59s\tremaining: 2.1s\n",
            "783:\tlearn: 0.7210183\ttotal: 7.59s\tremaining: 2.09s\n",
            "784:\tlearn: 0.7191220\ttotal: 7.6s\tremaining: 2.08s\n",
            "785:\tlearn: 0.7176409\ttotal: 7.61s\tremaining: 2.07s\n",
            "786:\tlearn: 0.7171986\ttotal: 7.62s\tremaining: 2.06s\n",
            "787:\tlearn: 0.7163454\ttotal: 7.62s\tremaining: 2.05s\n",
            "788:\tlearn: 0.7150255\ttotal: 7.63s\tremaining: 2.04s\n",
            "789:\tlearn: 0.7148713\ttotal: 7.63s\tremaining: 2.03s\n",
            "790:\tlearn: 0.7143169\ttotal: 7.65s\tremaining: 2.02s\n",
            "791:\tlearn: 0.7131188\ttotal: 7.66s\tremaining: 2.01s\n",
            "792:\tlearn: 0.7124553\ttotal: 7.67s\tremaining: 2s\n",
            "793:\tlearn: 0.7104453\ttotal: 7.68s\tremaining: 1.99s\n",
            "794:\tlearn: 0.7096276\ttotal: 7.68s\tremaining: 1.98s\n",
            "795:\tlearn: 0.7095195\ttotal: 7.69s\tremaining: 1.97s\n",
            "796:\tlearn: 0.7088172\ttotal: 7.7s\tremaining: 1.96s\n",
            "797:\tlearn: 0.7076629\ttotal: 7.7s\tremaining: 1.95s\n",
            "798:\tlearn: 0.7069773\ttotal: 7.71s\tremaining: 1.94s\n",
            "799:\tlearn: 0.7068800\ttotal: 7.72s\tremaining: 1.93s\n",
            "800:\tlearn: 0.7064727\ttotal: 7.72s\tremaining: 1.92s\n",
            "801:\tlearn: 0.7051186\ttotal: 7.73s\tremaining: 1.91s\n",
            "802:\tlearn: 0.7038024\ttotal: 7.74s\tremaining: 1.9s\n",
            "803:\tlearn: 0.7034829\ttotal: 7.74s\tremaining: 1.89s\n",
            "804:\tlearn: 0.7029829\ttotal: 7.75s\tremaining: 1.88s\n",
            "805:\tlearn: 0.7008393\ttotal: 7.76s\tremaining: 1.87s\n",
            "806:\tlearn: 0.6987728\ttotal: 7.76s\tremaining: 1.86s\n",
            "807:\tlearn: 0.6968683\ttotal: 7.77s\tremaining: 1.84s\n",
            "808:\tlearn: 0.6967640\ttotal: 7.78s\tremaining: 1.84s\n",
            "809:\tlearn: 0.6956314\ttotal: 7.79s\tremaining: 1.83s\n",
            "810:\tlearn: 0.6950566\ttotal: 7.79s\tremaining: 1.82s\n",
            "811:\tlearn: 0.6940527\ttotal: 7.8s\tremaining: 1.8s\n",
            "812:\tlearn: 0.6936952\ttotal: 7.81s\tremaining: 1.79s\n",
            "813:\tlearn: 0.6921303\ttotal: 7.83s\tremaining: 1.79s\n",
            "814:\tlearn: 0.6911226\ttotal: 7.83s\tremaining: 1.78s\n",
            "815:\tlearn: 0.6902209\ttotal: 7.84s\tremaining: 1.77s\n",
            "816:\tlearn: 0.6893276\ttotal: 7.85s\tremaining: 1.76s\n",
            "817:\tlearn: 0.6883598\ttotal: 7.85s\tremaining: 1.75s\n",
            "818:\tlearn: 0.6871962\ttotal: 7.85s\tremaining: 1.74s\n",
            "819:\tlearn: 0.6851639\ttotal: 7.86s\tremaining: 1.72s\n",
            "820:\tlearn: 0.6841291\ttotal: 7.86s\tremaining: 1.71s\n",
            "821:\tlearn: 0.6830217\ttotal: 7.86s\tremaining: 1.7s\n",
            "822:\tlearn: 0.6827696\ttotal: 7.87s\tremaining: 1.69s\n",
            "823:\tlearn: 0.6820794\ttotal: 7.87s\tremaining: 1.68s\n",
            "824:\tlearn: 0.6807692\ttotal: 7.87s\tremaining: 1.67s\n",
            "825:\tlearn: 0.6797981\ttotal: 7.87s\tremaining: 1.66s\n",
            "826:\tlearn: 0.6789656\ttotal: 7.88s\tremaining: 1.65s\n",
            "827:\tlearn: 0.6778159\ttotal: 7.88s\tremaining: 1.64s\n",
            "828:\tlearn: 0.6765024\ttotal: 7.89s\tremaining: 1.63s\n",
            "829:\tlearn: 0.6748775\ttotal: 7.89s\tremaining: 1.62s\n",
            "830:\tlearn: 0.6733784\ttotal: 7.91s\tremaining: 1.61s\n",
            "831:\tlearn: 0.6714208\ttotal: 7.92s\tremaining: 1.6s\n",
            "832:\tlearn: 0.6702270\ttotal: 7.92s\tremaining: 1.59s\n",
            "833:\tlearn: 0.6694767\ttotal: 7.93s\tremaining: 1.58s\n",
            "834:\tlearn: 0.6684839\ttotal: 7.94s\tremaining: 1.57s\n",
            "835:\tlearn: 0.6682604\ttotal: 7.94s\tremaining: 1.56s\n",
            "836:\tlearn: 0.6679210\ttotal: 7.95s\tremaining: 1.55s\n",
            "837:\tlearn: 0.6657933\ttotal: 7.96s\tremaining: 1.54s\n",
            "838:\tlearn: 0.6644814\ttotal: 7.96s\tremaining: 1.53s\n",
            "839:\tlearn: 0.6639753\ttotal: 7.97s\tremaining: 1.52s\n",
            "840:\tlearn: 0.6630529\ttotal: 7.98s\tremaining: 1.51s\n",
            "841:\tlearn: 0.6622962\ttotal: 7.99s\tremaining: 1.5s\n",
            "842:\tlearn: 0.6610458\ttotal: 8s\tremaining: 1.49s\n",
            "843:\tlearn: 0.6597627\ttotal: 8.01s\tremaining: 1.48s\n",
            "844:\tlearn: 0.6588563\ttotal: 8.02s\tremaining: 1.47s\n",
            "845:\tlearn: 0.6568943\ttotal: 8.03s\tremaining: 1.46s\n",
            "846:\tlearn: 0.6554621\ttotal: 8.05s\tremaining: 1.45s\n",
            "847:\tlearn: 0.6547168\ttotal: 8.05s\tremaining: 1.44s\n",
            "848:\tlearn: 0.6544231\ttotal: 8.06s\tremaining: 1.43s\n",
            "849:\tlearn: 0.6536227\ttotal: 8.07s\tremaining: 1.42s\n",
            "850:\tlearn: 0.6533091\ttotal: 8.07s\tremaining: 1.41s\n",
            "851:\tlearn: 0.6518382\ttotal: 8.07s\tremaining: 1.4s\n",
            "852:\tlearn: 0.6512161\ttotal: 8.09s\tremaining: 1.39s\n",
            "853:\tlearn: 0.6494936\ttotal: 8.09s\tremaining: 1.38s\n",
            "854:\tlearn: 0.6494073\ttotal: 8.09s\tremaining: 1.37s\n",
            "855:\tlearn: 0.6493379\ttotal: 8.1s\tremaining: 1.36s\n",
            "856:\tlearn: 0.6482857\ttotal: 8.1s\tremaining: 1.35s\n",
            "857:\tlearn: 0.6469121\ttotal: 8.1s\tremaining: 1.34s\n",
            "858:\tlearn: 0.6466323\ttotal: 8.11s\tremaining: 1.33s\n",
            "859:\tlearn: 0.6464995\ttotal: 8.11s\tremaining: 1.32s\n",
            "860:\tlearn: 0.6454947\ttotal: 8.11s\tremaining: 1.31s\n",
            "861:\tlearn: 0.6449811\ttotal: 8.12s\tremaining: 1.3s\n",
            "862:\tlearn: 0.6438188\ttotal: 8.12s\tremaining: 1.29s\n",
            "863:\tlearn: 0.6422994\ttotal: 8.12s\tremaining: 1.28s\n",
            "864:\tlearn: 0.6413600\ttotal: 8.13s\tremaining: 1.27s\n",
            "865:\tlearn: 0.6412294\ttotal: 8.13s\tremaining: 1.26s\n",
            "866:\tlearn: 0.6396964\ttotal: 8.13s\tremaining: 1.25s\n",
            "867:\tlearn: 0.6381491\ttotal: 8.13s\tremaining: 1.24s\n",
            "868:\tlearn: 0.6378371\ttotal: 8.13s\tremaining: 1.23s\n",
            "869:\tlearn: 0.6366919\ttotal: 8.14s\tremaining: 1.22s\n",
            "870:\tlearn: 0.6355422\ttotal: 8.14s\tremaining: 1.21s\n",
            "871:\tlearn: 0.6339990\ttotal: 8.14s\tremaining: 1.2s\n",
            "872:\tlearn: 0.6323249\ttotal: 8.15s\tremaining: 1.19s\n",
            "873:\tlearn: 0.6318415\ttotal: 8.15s\tremaining: 1.18s\n",
            "874:\tlearn: 0.6315673\ttotal: 8.17s\tremaining: 1.17s\n",
            "875:\tlearn: 0.6299488\ttotal: 8.17s\tremaining: 1.16s\n",
            "876:\tlearn: 0.6290355\ttotal: 8.18s\tremaining: 1.15s\n",
            "877:\tlearn: 0.6283741\ttotal: 8.18s\tremaining: 1.14s\n",
            "878:\tlearn: 0.6269713\ttotal: 8.19s\tremaining: 1.13s\n",
            "879:\tlearn: 0.6257357\ttotal: 8.19s\tremaining: 1.12s\n",
            "880:\tlearn: 0.6250036\ttotal: 8.2s\tremaining: 1.11s\n",
            "881:\tlearn: 0.6233699\ttotal: 8.21s\tremaining: 1.1s\n",
            "882:\tlearn: 0.6230428\ttotal: 8.21s\tremaining: 1.09s\n",
            "883:\tlearn: 0.6217268\ttotal: 8.22s\tremaining: 1.08s\n",
            "884:\tlearn: 0.6212190\ttotal: 8.22s\tremaining: 1.07s\n",
            "885:\tlearn: 0.6208261\ttotal: 8.22s\tremaining: 1.06s\n",
            "886:\tlearn: 0.6201760\ttotal: 8.23s\tremaining: 1.05s\n",
            "887:\tlearn: 0.6200616\ttotal: 8.23s\tremaining: 1.04s\n",
            "888:\tlearn: 0.6187692\ttotal: 8.23s\tremaining: 1.03s\n",
            "889:\tlearn: 0.6180223\ttotal: 8.23s\tremaining: 1.02s\n",
            "890:\tlearn: 0.6165677\ttotal: 8.24s\tremaining: 1.01s\n",
            "891:\tlearn: 0.6152156\ttotal: 8.24s\tremaining: 998ms\n",
            "892:\tlearn: 0.6150661\ttotal: 8.25s\tremaining: 989ms\n",
            "893:\tlearn: 0.6138309\ttotal: 8.27s\tremaining: 980ms\n",
            "894:\tlearn: 0.6120693\ttotal: 8.27s\tremaining: 971ms\n",
            "895:\tlearn: 0.6112668\ttotal: 8.28s\tremaining: 961ms\n",
            "896:\tlearn: 0.6107344\ttotal: 8.28s\tremaining: 951ms\n",
            "897:\tlearn: 0.6105728\ttotal: 8.28s\tremaining: 941ms\n",
            "898:\tlearn: 0.6102702\ttotal: 8.29s\tremaining: 931ms\n",
            "899:\tlearn: 0.6093904\ttotal: 8.29s\tremaining: 921ms\n",
            "900:\tlearn: 0.6089087\ttotal: 8.29s\tremaining: 911ms\n",
            "901:\tlearn: 0.6080389\ttotal: 8.29s\tremaining: 901ms\n",
            "902:\tlearn: 0.6075593\ttotal: 8.3s\tremaining: 891ms\n",
            "903:\tlearn: 0.6062294\ttotal: 8.3s\tremaining: 881ms\n",
            "904:\tlearn: 0.6049380\ttotal: 8.3s\tremaining: 872ms\n",
            "905:\tlearn: 0.6032535\ttotal: 8.3s\tremaining: 862ms\n",
            "906:\tlearn: 0.6029324\ttotal: 8.31s\tremaining: 852ms\n",
            "907:\tlearn: 0.6021952\ttotal: 8.31s\tremaining: 842ms\n",
            "908:\tlearn: 0.6006173\ttotal: 8.31s\tremaining: 832ms\n",
            "909:\tlearn: 0.6000215\ttotal: 8.31s\tremaining: 822ms\n",
            "910:\tlearn: 0.5984667\ttotal: 8.32s\tremaining: 813ms\n",
            "911:\tlearn: 0.5973502\ttotal: 8.32s\tremaining: 803ms\n",
            "912:\tlearn: 0.5966382\ttotal: 8.32s\tremaining: 793ms\n",
            "913:\tlearn: 0.5951100\ttotal: 8.32s\tremaining: 783ms\n",
            "914:\tlearn: 0.5942934\ttotal: 8.33s\tremaining: 774ms\n",
            "915:\tlearn: 0.5932819\ttotal: 8.33s\tremaining: 764ms\n",
            "916:\tlearn: 0.5921795\ttotal: 8.33s\tremaining: 754ms\n",
            "917:\tlearn: 0.5911283\ttotal: 8.34s\tremaining: 745ms\n",
            "918:\tlearn: 0.5899260\ttotal: 8.34s\tremaining: 735ms\n",
            "919:\tlearn: 0.5887953\ttotal: 8.34s\tremaining: 725ms\n",
            "920:\tlearn: 0.5885003\ttotal: 8.34s\tremaining: 716ms\n",
            "921:\tlearn: 0.5884141\ttotal: 8.34s\tremaining: 706ms\n",
            "922:\tlearn: 0.5881334\ttotal: 8.35s\tremaining: 696ms\n",
            "923:\tlearn: 0.5880317\ttotal: 8.35s\tremaining: 687ms\n",
            "924:\tlearn: 0.5865294\ttotal: 8.35s\tremaining: 677ms\n",
            "925:\tlearn: 0.5855883\ttotal: 8.35s\tremaining: 668ms\n",
            "926:\tlearn: 0.5840807\ttotal: 8.36s\tremaining: 658ms\n",
            "927:\tlearn: 0.5825891\ttotal: 8.36s\tremaining: 649ms\n",
            "928:\tlearn: 0.5818057\ttotal: 8.36s\tremaining: 639ms\n",
            "929:\tlearn: 0.5804799\ttotal: 8.36s\tremaining: 629ms\n",
            "930:\tlearn: 0.5802089\ttotal: 8.37s\tremaining: 620ms\n",
            "931:\tlearn: 0.5790340\ttotal: 8.37s\tremaining: 611ms\n",
            "932:\tlearn: 0.5777776\ttotal: 8.37s\tremaining: 601ms\n",
            "933:\tlearn: 0.5777110\ttotal: 8.37s\tremaining: 592ms\n",
            "934:\tlearn: 0.5769789\ttotal: 8.38s\tremaining: 582ms\n",
            "935:\tlearn: 0.5766501\ttotal: 8.38s\tremaining: 573ms\n",
            "936:\tlearn: 0.5763769\ttotal: 8.38s\tremaining: 563ms\n",
            "937:\tlearn: 0.5761394\ttotal: 8.38s\tremaining: 554ms\n",
            "938:\tlearn: 0.5756924\ttotal: 8.38s\tremaining: 545ms\n",
            "939:\tlearn: 0.5754787\ttotal: 8.39s\tremaining: 535ms\n",
            "940:\tlearn: 0.5745888\ttotal: 8.39s\tremaining: 526ms\n",
            "941:\tlearn: 0.5742661\ttotal: 8.4s\tremaining: 517ms\n",
            "942:\tlearn: 0.5740035\ttotal: 8.41s\tremaining: 508ms\n",
            "943:\tlearn: 0.5729168\ttotal: 8.41s\tremaining: 499ms\n",
            "944:\tlearn: 0.5723188\ttotal: 8.42s\tremaining: 490ms\n",
            "945:\tlearn: 0.5710965\ttotal: 8.43s\tremaining: 481ms\n",
            "946:\tlearn: 0.5698417\ttotal: 8.43s\tremaining: 472ms\n",
            "947:\tlearn: 0.5692302\ttotal: 8.43s\tremaining: 463ms\n",
            "948:\tlearn: 0.5689893\ttotal: 8.44s\tremaining: 453ms\n",
            "949:\tlearn: 0.5686730\ttotal: 8.44s\tremaining: 444ms\n",
            "950:\tlearn: 0.5686147\ttotal: 8.44s\tremaining: 435ms\n",
            "951:\tlearn: 0.5671594\ttotal: 8.45s\tremaining: 426ms\n",
            "952:\tlearn: 0.5667726\ttotal: 8.45s\tremaining: 417ms\n",
            "953:\tlearn: 0.5657701\ttotal: 8.45s\tremaining: 408ms\n",
            "954:\tlearn: 0.5654052\ttotal: 8.45s\tremaining: 398ms\n",
            "955:\tlearn: 0.5643421\ttotal: 8.46s\tremaining: 389ms\n",
            "956:\tlearn: 0.5637616\ttotal: 8.46s\tremaining: 380ms\n",
            "957:\tlearn: 0.5630324\ttotal: 8.46s\tremaining: 371ms\n",
            "958:\tlearn: 0.5625128\ttotal: 8.46s\tremaining: 362ms\n",
            "959:\tlearn: 0.5619601\ttotal: 8.47s\tremaining: 353ms\n",
            "960:\tlearn: 0.5607078\ttotal: 8.47s\tremaining: 344ms\n",
            "961:\tlearn: 0.5604841\ttotal: 8.47s\tremaining: 335ms\n",
            "962:\tlearn: 0.5596969\ttotal: 8.47s\tremaining: 326ms\n",
            "963:\tlearn: 0.5590084\ttotal: 8.48s\tremaining: 317ms\n",
            "964:\tlearn: 0.5578315\ttotal: 8.48s\tremaining: 308ms\n",
            "965:\tlearn: 0.5567577\ttotal: 8.49s\tremaining: 299ms\n",
            "966:\tlearn: 0.5562602\ttotal: 8.49s\tremaining: 290ms\n",
            "967:\tlearn: 0.5560832\ttotal: 8.5s\tremaining: 281ms\n",
            "968:\tlearn: 0.5558760\ttotal: 8.5s\tremaining: 272ms\n",
            "969:\tlearn: 0.5554331\ttotal: 8.5s\tremaining: 263ms\n",
            "970:\tlearn: 0.5543549\ttotal: 8.51s\tremaining: 254ms\n",
            "971:\tlearn: 0.5538018\ttotal: 8.51s\tremaining: 245ms\n",
            "972:\tlearn: 0.5529062\ttotal: 8.51s\tremaining: 236ms\n",
            "973:\tlearn: 0.5521548\ttotal: 8.51s\tremaining: 227ms\n",
            "974:\tlearn: 0.5508152\ttotal: 8.52s\tremaining: 218ms\n",
            "975:\tlearn: 0.5502901\ttotal: 8.52s\tremaining: 209ms\n",
            "976:\tlearn: 0.5487737\ttotal: 8.52s\tremaining: 201ms\n",
            "977:\tlearn: 0.5479259\ttotal: 8.52s\tremaining: 192ms\n",
            "978:\tlearn: 0.5474592\ttotal: 8.53s\tremaining: 183ms\n",
            "979:\tlearn: 0.5458165\ttotal: 8.53s\tremaining: 174ms\n",
            "980:\tlearn: 0.5450993\ttotal: 8.53s\tremaining: 165ms\n",
            "981:\tlearn: 0.5447337\ttotal: 8.53s\tremaining: 156ms\n",
            "982:\tlearn: 0.5443736\ttotal: 8.54s\tremaining: 148ms\n",
            "983:\tlearn: 0.5426811\ttotal: 8.54s\tremaining: 139ms\n",
            "984:\tlearn: 0.5416367\ttotal: 8.54s\tremaining: 130ms\n",
            "985:\tlearn: 0.5410619\ttotal: 8.54s\tremaining: 121ms\n",
            "986:\tlearn: 0.5399973\ttotal: 8.55s\tremaining: 113ms\n",
            "987:\tlearn: 0.5393639\ttotal: 8.55s\tremaining: 104ms\n",
            "988:\tlearn: 0.5381611\ttotal: 8.56s\tremaining: 95.3ms\n",
            "989:\tlearn: 0.5375147\ttotal: 8.57s\tremaining: 86.6ms\n",
            "990:\tlearn: 0.5366332\ttotal: 8.58s\tremaining: 77.9ms\n",
            "991:\tlearn: 0.5364476\ttotal: 8.58s\tremaining: 69.2ms\n",
            "992:\tlearn: 0.5354049\ttotal: 8.59s\tremaining: 60.6ms\n",
            "993:\tlearn: 0.5338845\ttotal: 8.6s\tremaining: 51.9ms\n",
            "994:\tlearn: 0.5328513\ttotal: 8.61s\tremaining: 43.2ms\n",
            "995:\tlearn: 0.5317753\ttotal: 8.61s\tremaining: 34.6ms\n",
            "996:\tlearn: 0.5310949\ttotal: 8.62s\tremaining: 25.9ms\n",
            "997:\tlearn: 0.5310496\ttotal: 8.62s\tremaining: 17.3ms\n",
            "998:\tlearn: 0.5307863\ttotal: 8.62s\tremaining: 8.63ms\n",
            "999:\tlearn: 0.5303152\ttotal: 8.63s\tremaining: 0us\n"
          ]
        },
        {
          "output_type": "execute_result",
          "data": {
            "text/plain": [
              "<catboost.core.CatBoostRegressor at 0x7b5ceafeac90>"
            ]
          },
          "metadata": {},
          "execution_count": 268
        }
      ]
    },
    {
      "cell_type": "markdown",
      "source": [
        "**checking  testing accuracy**"
      ],
      "metadata": {
        "id": "AhdztwoFxpCt"
      }
    },
    {
      "cell_type": "code",
      "source": [
        "print(\"testing accuracy :\",cb.score(X_test,y_test))\n"
      ],
      "metadata": {
        "colab": {
          "base_uri": "https://localhost:8080/"
        },
        "id": "UEXK0YiECEzf",
        "outputId": "d4bab0b0-585d-407b-e653-d851ff3a2b49"
      },
      "execution_count": null,
      "outputs": [
        {
          "output_type": "stream",
          "name": "stdout",
          "text": [
            "testing accuracy : 0.8856797583755225\n"
          ]
        }
      ]
    },
    {
      "cell_type": "markdown",
      "source": [
        "**Finding Top 5 best predictions made**"
      ],
      "metadata": {
        "id": "RXi7Lva54KLB"
      }
    },
    {
      "cell_type": "code",
      "source": [
        "predictions = cb.predict(X_test)\n",
        "errors = y_test['PRICE'].values - predictions\n",
        "error_df = pd.DataFrame({'Actual': y_test['PRICE'].values,\n",
        "                        'Predicted': predictions,\n",
        "                        'Error': errors})\n",
        "#Calculate absolute errors:\n",
        "error_df['Absolute Error'] = abs(error_df['Error'])\n",
        "\n",
        "error_df.sort_values(by='Absolute Error', ascending=True).head(5)"
      ],
      "metadata": {
        "colab": {
          "base_uri": "https://localhost:8080/",
          "height": 206
        },
        "id": "vVcbEuoB4DPX",
        "outputId": "fc4dfecc-3485-4391-cd9d-eb86ef87c127"
      },
      "execution_count": null,
      "outputs": [
        {
          "output_type": "execute_result",
          "data": {
            "text/plain": [
              "     Actual  Predicted     Error  Absolute Error\n",
              "62     31.5  31.471367  0.028633        0.028633\n",
              "31     23.8  23.770243  0.029757        0.029757\n",
              "110     8.7   8.661580  0.038420        0.038420\n",
              "153    21.2  21.160811  0.039189        0.039189\n",
              "65     20.0  19.911629  0.088371        0.088371"
            ],
            "text/html": [
              "\n",
              "  <div id=\"df-0cc9a004-ebe9-4b30-ab6a-e2636e113de1\" class=\"colab-df-container\">\n",
              "    <div>\n",
              "<style scoped>\n",
              "    .dataframe tbody tr th:only-of-type {\n",
              "        vertical-align: middle;\n",
              "    }\n",
              "\n",
              "    .dataframe tbody tr th {\n",
              "        vertical-align: top;\n",
              "    }\n",
              "\n",
              "    .dataframe thead th {\n",
              "        text-align: right;\n",
              "    }\n",
              "</style>\n",
              "<table border=\"1\" class=\"dataframe\">\n",
              "  <thead>\n",
              "    <tr style=\"text-align: right;\">\n",
              "      <th></th>\n",
              "      <th>Actual</th>\n",
              "      <th>Predicted</th>\n",
              "      <th>Error</th>\n",
              "      <th>Absolute Error</th>\n",
              "    </tr>\n",
              "  </thead>\n",
              "  <tbody>\n",
              "    <tr>\n",
              "      <th>62</th>\n",
              "      <td>31.5</td>\n",
              "      <td>31.471367</td>\n",
              "      <td>0.028633</td>\n",
              "      <td>0.028633</td>\n",
              "    </tr>\n",
              "    <tr>\n",
              "      <th>31</th>\n",
              "      <td>23.8</td>\n",
              "      <td>23.770243</td>\n",
              "      <td>0.029757</td>\n",
              "      <td>0.029757</td>\n",
              "    </tr>\n",
              "    <tr>\n",
              "      <th>110</th>\n",
              "      <td>8.7</td>\n",
              "      <td>8.661580</td>\n",
              "      <td>0.038420</td>\n",
              "      <td>0.038420</td>\n",
              "    </tr>\n",
              "    <tr>\n",
              "      <th>153</th>\n",
              "      <td>21.2</td>\n",
              "      <td>21.160811</td>\n",
              "      <td>0.039189</td>\n",
              "      <td>0.039189</td>\n",
              "    </tr>\n",
              "    <tr>\n",
              "      <th>65</th>\n",
              "      <td>20.0</td>\n",
              "      <td>19.911629</td>\n",
              "      <td>0.088371</td>\n",
              "      <td>0.088371</td>\n",
              "    </tr>\n",
              "  </tbody>\n",
              "</table>\n",
              "</div>\n",
              "    <div class=\"colab-df-buttons\">\n",
              "\n",
              "  <div class=\"colab-df-container\">\n",
              "    <button class=\"colab-df-convert\" onclick=\"convertToInteractive('df-0cc9a004-ebe9-4b30-ab6a-e2636e113de1')\"\n",
              "            title=\"Convert this dataframe to an interactive table.\"\n",
              "            style=\"display:none;\">\n",
              "\n",
              "  <svg xmlns=\"http://www.w3.org/2000/svg\" height=\"24px\" viewBox=\"0 -960 960 960\">\n",
              "    <path d=\"M120-120v-720h720v720H120Zm60-500h600v-160H180v160Zm220 220h160v-160H400v160Zm0 220h160v-160H400v160ZM180-400h160v-160H180v160Zm440 0h160v-160H620v160ZM180-180h160v-160H180v160Zm440 0h160v-160H620v160Z\"/>\n",
              "  </svg>\n",
              "    </button>\n",
              "\n",
              "  <style>\n",
              "    .colab-df-container {\n",
              "      display:flex;\n",
              "      gap: 12px;\n",
              "    }\n",
              "\n",
              "    .colab-df-convert {\n",
              "      background-color: #E8F0FE;\n",
              "      border: none;\n",
              "      border-radius: 50%;\n",
              "      cursor: pointer;\n",
              "      display: none;\n",
              "      fill: #1967D2;\n",
              "      height: 32px;\n",
              "      padding: 0 0 0 0;\n",
              "      width: 32px;\n",
              "    }\n",
              "\n",
              "    .colab-df-convert:hover {\n",
              "      background-color: #E2EBFA;\n",
              "      box-shadow: 0px 1px 2px rgba(60, 64, 67, 0.3), 0px 1px 3px 1px rgba(60, 64, 67, 0.15);\n",
              "      fill: #174EA6;\n",
              "    }\n",
              "\n",
              "    .colab-df-buttons div {\n",
              "      margin-bottom: 4px;\n",
              "    }\n",
              "\n",
              "    [theme=dark] .colab-df-convert {\n",
              "      background-color: #3B4455;\n",
              "      fill: #D2E3FC;\n",
              "    }\n",
              "\n",
              "    [theme=dark] .colab-df-convert:hover {\n",
              "      background-color: #434B5C;\n",
              "      box-shadow: 0px 1px 3px 1px rgba(0, 0, 0, 0.15);\n",
              "      filter: drop-shadow(0px 1px 2px rgba(0, 0, 0, 0.3));\n",
              "      fill: #FFFFFF;\n",
              "    }\n",
              "  </style>\n",
              "\n",
              "    <script>\n",
              "      const buttonEl =\n",
              "        document.querySelector('#df-0cc9a004-ebe9-4b30-ab6a-e2636e113de1 button.colab-df-convert');\n",
              "      buttonEl.style.display =\n",
              "        google.colab.kernel.accessAllowed ? 'block' : 'none';\n",
              "\n",
              "      async function convertToInteractive(key) {\n",
              "        const element = document.querySelector('#df-0cc9a004-ebe9-4b30-ab6a-e2636e113de1');\n",
              "        const dataTable =\n",
              "          await google.colab.kernel.invokeFunction('convertToInteractive',\n",
              "                                                    [key], {});\n",
              "        if (!dataTable) return;\n",
              "\n",
              "        const docLinkHtml = 'Like what you see? Visit the ' +\n",
              "          '<a target=\"_blank\" href=https://colab.research.google.com/notebooks/data_table.ipynb>data table notebook</a>'\n",
              "          + ' to learn more about interactive tables.';\n",
              "        element.innerHTML = '';\n",
              "        dataTable['output_type'] = 'display_data';\n",
              "        await google.colab.output.renderOutput(dataTable, element);\n",
              "        const docLink = document.createElement('div');\n",
              "        docLink.innerHTML = docLinkHtml;\n",
              "        element.appendChild(docLink);\n",
              "      }\n",
              "    </script>\n",
              "  </div>\n",
              "\n",
              "\n",
              "    <div id=\"df-4ecfe1ef-d3f6-4909-ab47-ca6c9a88d37e\">\n",
              "      <button class=\"colab-df-quickchart\" onclick=\"quickchart('df-4ecfe1ef-d3f6-4909-ab47-ca6c9a88d37e')\"\n",
              "                title=\"Suggest charts\"\n",
              "                style=\"display:none;\">\n",
              "\n",
              "<svg xmlns=\"http://www.w3.org/2000/svg\" height=\"24px\"viewBox=\"0 0 24 24\"\n",
              "     width=\"24px\">\n",
              "    <g>\n",
              "        <path d=\"M19 3H5c-1.1 0-2 .9-2 2v14c0 1.1.9 2 2 2h14c1.1 0 2-.9 2-2V5c0-1.1-.9-2-2-2zM9 17H7v-7h2v7zm4 0h-2V7h2v10zm4 0h-2v-4h2v4z\"/>\n",
              "    </g>\n",
              "</svg>\n",
              "      </button>\n",
              "\n",
              "<style>\n",
              "  .colab-df-quickchart {\n",
              "      --bg-color: #E8F0FE;\n",
              "      --fill-color: #1967D2;\n",
              "      --hover-bg-color: #E2EBFA;\n",
              "      --hover-fill-color: #174EA6;\n",
              "      --disabled-fill-color: #AAA;\n",
              "      --disabled-bg-color: #DDD;\n",
              "  }\n",
              "\n",
              "  [theme=dark] .colab-df-quickchart {\n",
              "      --bg-color: #3B4455;\n",
              "      --fill-color: #D2E3FC;\n",
              "      --hover-bg-color: #434B5C;\n",
              "      --hover-fill-color: #FFFFFF;\n",
              "      --disabled-bg-color: #3B4455;\n",
              "      --disabled-fill-color: #666;\n",
              "  }\n",
              "\n",
              "  .colab-df-quickchart {\n",
              "    background-color: var(--bg-color);\n",
              "    border: none;\n",
              "    border-radius: 50%;\n",
              "    cursor: pointer;\n",
              "    display: none;\n",
              "    fill: var(--fill-color);\n",
              "    height: 32px;\n",
              "    padding: 0;\n",
              "    width: 32px;\n",
              "  }\n",
              "\n",
              "  .colab-df-quickchart:hover {\n",
              "    background-color: var(--hover-bg-color);\n",
              "    box-shadow: 0 1px 2px rgba(60, 64, 67, 0.3), 0 1px 3px 1px rgba(60, 64, 67, 0.15);\n",
              "    fill: var(--button-hover-fill-color);\n",
              "  }\n",
              "\n",
              "  .colab-df-quickchart-complete:disabled,\n",
              "  .colab-df-quickchart-complete:disabled:hover {\n",
              "    background-color: var(--disabled-bg-color);\n",
              "    fill: var(--disabled-fill-color);\n",
              "    box-shadow: none;\n",
              "  }\n",
              "\n",
              "  .colab-df-spinner {\n",
              "    border: 2px solid var(--fill-color);\n",
              "    border-color: transparent;\n",
              "    border-bottom-color: var(--fill-color);\n",
              "    animation:\n",
              "      spin 1s steps(1) infinite;\n",
              "  }\n",
              "\n",
              "  @keyframes spin {\n",
              "    0% {\n",
              "      border-color: transparent;\n",
              "      border-bottom-color: var(--fill-color);\n",
              "      border-left-color: var(--fill-color);\n",
              "    }\n",
              "    20% {\n",
              "      border-color: transparent;\n",
              "      border-left-color: var(--fill-color);\n",
              "      border-top-color: var(--fill-color);\n",
              "    }\n",
              "    30% {\n",
              "      border-color: transparent;\n",
              "      border-left-color: var(--fill-color);\n",
              "      border-top-color: var(--fill-color);\n",
              "      border-right-color: var(--fill-color);\n",
              "    }\n",
              "    40% {\n",
              "      border-color: transparent;\n",
              "      border-right-color: var(--fill-color);\n",
              "      border-top-color: var(--fill-color);\n",
              "    }\n",
              "    60% {\n",
              "      border-color: transparent;\n",
              "      border-right-color: var(--fill-color);\n",
              "    }\n",
              "    80% {\n",
              "      border-color: transparent;\n",
              "      border-right-color: var(--fill-color);\n",
              "      border-bottom-color: var(--fill-color);\n",
              "    }\n",
              "    90% {\n",
              "      border-color: transparent;\n",
              "      border-bottom-color: var(--fill-color);\n",
              "    }\n",
              "  }\n",
              "</style>\n",
              "\n",
              "      <script>\n",
              "        async function quickchart(key) {\n",
              "          const quickchartButtonEl =\n",
              "            document.querySelector('#' + key + ' button');\n",
              "          quickchartButtonEl.disabled = true;  // To prevent multiple clicks.\n",
              "          quickchartButtonEl.classList.add('colab-df-spinner');\n",
              "          try {\n",
              "            const charts = await google.colab.kernel.invokeFunction(\n",
              "                'suggestCharts', [key], {});\n",
              "          } catch (error) {\n",
              "            console.error('Error during call to suggestCharts:', error);\n",
              "          }\n",
              "          quickchartButtonEl.classList.remove('colab-df-spinner');\n",
              "          quickchartButtonEl.classList.add('colab-df-quickchart-complete');\n",
              "        }\n",
              "        (() => {\n",
              "          let quickchartButtonEl =\n",
              "            document.querySelector('#df-4ecfe1ef-d3f6-4909-ab47-ca6c9a88d37e button');\n",
              "          quickchartButtonEl.style.display =\n",
              "            google.colab.kernel.accessAllowed ? 'block' : 'none';\n",
              "        })();\n",
              "      </script>\n",
              "    </div>\n",
              "\n",
              "    </div>\n",
              "  </div>\n"
            ],
            "application/vnd.google.colaboratory.intrinsic+json": {
              "type": "dataframe",
              "summary": "{\n  \"name\": \"error_df\",\n  \"rows\": 5,\n  \"fields\": [\n    {\n      \"column\": \"Actual\",\n      \"properties\": {\n        \"dtype\": \"number\",\n        \"std\": 8.222104353509508,\n        \"min\": 8.7,\n        \"max\": 31.5,\n        \"num_unique_values\": 5,\n        \"samples\": [\n          23.8,\n          20.0,\n          8.7\n        ],\n        \"semantic_type\": \"\",\n        \"description\": \"\"\n      }\n    },\n    {\n      \"column\": \"Predicted\",\n      \"properties\": {\n        \"dtype\": \"number\",\n        \"std\": 8.2275554824171,\n        \"min\": 8.661579693926264,\n        \"max\": 31.471366827338482,\n        \"num_unique_values\": 5,\n        \"samples\": [\n          23.77024276336953,\n          19.911628836350996,\n          8.661579693926264\n        ],\n        \"semantic_type\": \"\",\n        \"description\": \"\"\n      }\n    },\n    {\n      \"column\": \"Error\",\n      \"properties\": {\n        \"dtype\": \"number\",\n        \"std\": 0.024790360998285074,\n        \"min\": 0.028633172661518103,\n        \"max\": 0.0883711636490041,\n        \"num_unique_values\": 5,\n        \"samples\": [\n          0.02975723663046992,\n          0.0883711636490041,\n          0.03842030607373559\n        ],\n        \"semantic_type\": \"\",\n        \"description\": \"\"\n      }\n    },\n    {\n      \"column\": \"Absolute Error\",\n      \"properties\": {\n        \"dtype\": \"number\",\n        \"std\": 0.024790360998285074,\n        \"min\": 0.028633172661518103,\n        \"max\": 0.0883711636490041,\n        \"num_unique_values\": 5,\n        \"samples\": [\n          0.02975723663046992,\n          0.0883711636490041,\n          0.03842030607373559\n        ],\n        \"semantic_type\": \"\",\n        \"description\": \"\"\n      }\n    }\n  ]\n}"
            }
          },
          "metadata": {},
          "execution_count": 270
        }
      ]
    },
    {
      "cell_type": "markdown",
      "source": [
        "**get_feature_importance()** This method of the CatBoostRegressor object returns an array of feature importance values, one for each feature in your training data (X_train)."
      ],
      "metadata": {
        "id": "a7Fb6q4FDnSO"
      }
    },
    {
      "cell_type": "code",
      "source": [
        "# Access feature importance values directly\n",
        "feature_importances = cb.feature_importances_\n",
        "\n",
        "# Create a DataFrame for easier viewing\n",
        "feature_importance_df = pd.DataFrame({'Feature': X_train.columns,\n",
        "                                       'Importance': feature_importances})\n",
        "\n",
        "# Sort by importance in descending order\n",
        "feature_importance_df = feature_importance_df.sort_values(by='Importance', ascending=False)\n",
        "\n",
        "# Display the feature importance DataFrame\n",
        "print(feature_importance_df)"
      ],
      "metadata": {
        "colab": {
          "base_uri": "https://localhost:8080/"
        },
        "id": "WhvG_fsQDU4a",
        "outputId": "58634c9c-5391-443b-cbea-00773d165557"
      },
      "execution_count": null,
      "outputs": [
        {
          "output_type": "stream",
          "name": "stdout",
          "text": [
            "    Feature  Importance\n",
            "11    LSTAT   31.655054\n",
            "5        RM   28.873028\n",
            "4       NOX    6.403161\n",
            "7       DIS    5.961917\n",
            "0      CRIM    5.839707\n",
            "9   PTRATIO    4.467324\n",
            "10        B    3.867940\n",
            "6       AGE    3.685382\n",
            "8       TAX    3.212793\n",
            "2     INDUS    2.811960\n",
            "3      CHAS    2.279116\n",
            "1        ZN    0.942619\n"
          ]
        }
      ]
    },
    {
      "cell_type": "code",
      "source": [
        "dataframe.loc[:,['LSTAT','NOX','RM','PRICE']].corr()['PRICE']"
      ],
      "metadata": {
        "colab": {
          "base_uri": "https://localhost:8080/",
          "height": 210
        },
        "id": "MnBXWwKkD3L2",
        "outputId": "66232168-04e7-4f61-eab4-70f567becd62"
      },
      "execution_count": null,
      "outputs": [
        {
          "output_type": "execute_result",
          "data": {
            "text/plain": [
              "LSTAT   -0.737663\n",
              "NOX     -0.427321\n",
              "RM       0.695360\n",
              "PRICE    1.000000\n",
              "Name: PRICE, dtype: float64"
            ],
            "text/html": [
              "<div>\n",
              "<style scoped>\n",
              "    .dataframe tbody tr th:only-of-type {\n",
              "        vertical-align: middle;\n",
              "    }\n",
              "\n",
              "    .dataframe tbody tr th {\n",
              "        vertical-align: top;\n",
              "    }\n",
              "\n",
              "    .dataframe thead th {\n",
              "        text-align: right;\n",
              "    }\n",
              "</style>\n",
              "<table border=\"1\" class=\"dataframe\">\n",
              "  <thead>\n",
              "    <tr style=\"text-align: right;\">\n",
              "      <th></th>\n",
              "      <th>PRICE</th>\n",
              "    </tr>\n",
              "  </thead>\n",
              "  <tbody>\n",
              "    <tr>\n",
              "      <th>LSTAT</th>\n",
              "      <td>-0.737663</td>\n",
              "    </tr>\n",
              "    <tr>\n",
              "      <th>NOX</th>\n",
              "      <td>-0.427321</td>\n",
              "    </tr>\n",
              "    <tr>\n",
              "      <th>RM</th>\n",
              "      <td>0.695360</td>\n",
              "    </tr>\n",
              "    <tr>\n",
              "      <th>PRICE</th>\n",
              "      <td>1.000000</td>\n",
              "    </tr>\n",
              "  </tbody>\n",
              "</table>\n",
              "</div><br><label><b>dtype:</b> float64</label>"
            ]
          },
          "metadata": {},
          "execution_count": 273
        }
      ]
    },
    {
      "cell_type": "markdown",
      "source": [
        "##**Monte carlo simulation in python : checking uncertainity in predicted output with one varaible**\n",
        "\n",
        "Step 1 :Simulate uncertainity in one input :**LSTAT varriable**\n",
        "\n",
        "From dataset documentation in Table IV of Harrison & Rubin (1978), LSTAT is defined as:\n",
        "\n",
        "Proportion of population that is lower status means proportion of adults without, some high school education and proportion of male workers classified as laborers."
      ],
      "metadata": {
        "id": "Ezl_7LaNzhXL"
      }
    },
    {
      "cell_type": "markdown",
      "source": [
        "**🧠 The Setup**\n",
        "\n",
        "You're analyzing how LSTAT (percentage of lower-income population) affects predicted house price.\n",
        "\n",
        "*   Original LSTAT value (ground truth for observation) = 3.76\n",
        "\n",
        "*   Original model prediction = 31.67\n",
        "\n",
        "*   Correlation between LSTAT and price = -0.73 (strong negative)\n",
        "\n",
        "\n",
        "You will now run  Monte Carlo simulation where:\n",
        "\n",
        "*    You will  randomly generated 1000 LSTAT values between 3.72 and 15\n",
        "\n",
        "*    You kept other variables fixed\n",
        "\n",
        "*    You will predict price for each sample\n",
        "\n"
      ],
      "metadata": {
        "id": "V8PTyJDdtYvE"
      }
    },
    {
      "cell_type": "code",
      "source": [
        "X_test.iloc[62]['LSTAT']# finding LSTAT value for prediction number 62"
      ],
      "metadata": {
        "colab": {
          "base_uri": "https://localhost:8080/"
        },
        "id": "-vRv3kE-FMjf",
        "outputId": "071fa5d5-a824-4019-9616-20ad017bb737"
      },
      "execution_count": null,
      "outputs": [
        {
          "output_type": "execute_result",
          "data": {
            "text/plain": [
              "np.float64(3.76)"
            ]
          },
          "metadata": {},
          "execution_count": 274
        }
      ]
    },
    {
      "cell_type": "markdown",
      "source": [
        "**I want to apply Monte calo simulation to model uncertainity in LSTAT  variable**, currently valued at 3.76, lets suppose this population likely  increases to 15 % in area\n",
        "\n",
        "In simulation terms, we will treat LSTAT as random varaible around 3.76 with small range of varaition.  It can vary + 12 unites , it could be between 3.72 and 15\n",
        "\n",
        "\n",
        "**Next choose Distribution for simulation**\n",
        "\n",
        "Option A : Uniform distribution , if every value between 3.72 and 15 is equally likely\n",
        "\n",
        "Option B : Normal distribution, if values near 3.72 are more likely\n",
        "\n",
        " **We are using uniform  distribution**\n",
        "\n"
      ],
      "metadata": {
        "id": "BnbWQ1yx_40a"
      }
    },
    {
      "cell_type": "markdown",
      "source": [
        "Step 2 : Create baseline input for predictions"
      ],
      "metadata": {
        "id": "7ST75N744j6q"
      }
    },
    {
      "cell_type": "code",
      "source": [
        "#selecting best predicted output for this as base\n",
        "X_test_base=X_test.iloc[62].copy()\n",
        "y_test_base=y_test.iloc[62].copy()"
      ],
      "metadata": {
        "id": "qk3kX3b81v5M"
      },
      "execution_count": null,
      "outputs": []
    },
    {
      "cell_type": "markdown",
      "source": [
        "Step 3 : Set Monte carlo simulations for TAX vaiable\n",
        "\n",
        "-> select simulation frequency\n",
        "\n",
        "-> select mean value\n",
        "\n",
        "->select std deviation"
      ],
      "metadata": {
        "id": "iYNGl-tX5Bml"
      }
    },
    {
      "cell_type": "code",
      "source": [
        "X_test_base['LSTAT']"
      ],
      "metadata": {
        "colab": {
          "base_uri": "https://localhost:8080/"
        },
        "id": "S06vxQ4Z9UWm",
        "outputId": "ca0a6160-0b29-4f6d-81e5-d5559cf45751"
      },
      "execution_count": null,
      "outputs": [
        {
          "output_type": "execute_result",
          "data": {
            "text/plain": [
              "np.float64(3.76)"
            ]
          },
          "metadata": {},
          "execution_count": 276
        }
      ]
    },
    {
      "cell_type": "code",
      "source": [
        "simulations =1000\n",
        "LSTAT_samples=np.random.uniform(3.76,15,size=simulations)"
      ],
      "metadata": {
        "id": "gYbahdvH2pfd"
      },
      "execution_count": null,
      "outputs": []
    },
    {
      "cell_type": "markdown",
      "source": [
        "step 4 : predict results for every simulated value in input_samples varaible"
      ],
      "metadata": {
        "id": "MQBPCQ1r6KFE"
      }
    },
    {
      "cell_type": "code",
      "source": [
        "predicted_prices_lstat=[]\n",
        "for i in LSTAT_samples:\n",
        "  X_test_base['LSTAT']=i\n",
        "  predicted_prices_lstat.append(cb.predict(X_test_base.values.reshape(1,-1))[0])"
      ],
      "metadata": {
        "id": "B50zSdwf42nR"
      },
      "execution_count": null,
      "outputs": []
    },
    {
      "cell_type": "markdown",
      "source": [
        "step 5: Analyse the output"
      ],
      "metadata": {
        "id": "kvoiCi5i6Tk_"
      }
    },
    {
      "cell_type": "code",
      "source": [
        "#check for mean value\n",
        "np.array(predicted_prices_lstat).mean()"
      ],
      "metadata": {
        "colab": {
          "base_uri": "https://localhost:8080/"
        },
        "id": "vvaeIOA_6B0_",
        "outputId": "8cdea335-463d-4a09-d801-7a7a0dd48d0c"
      },
      "execution_count": null,
      "outputs": [
        {
          "output_type": "execute_result",
          "data": {
            "text/plain": [
              "np.float64(27.252746812520957)"
            ]
          },
          "metadata": {},
          "execution_count": 279
        }
      ]
    },
    {
      "cell_type": "markdown",
      "source": [
        "##🎯 Why Percentiles?\n",
        "\n",
        "**We want to know:**\n",
        "\n",
        "“What price range covers most of the possibilities — say, 90% of them?”\n",
        "\n",
        "This is what percentiles help us find:\n",
        "\n",
        "\n",
        "\n",
        "**🎯 What Do 5th and 95th Percentile Mean?**\n",
        "Think of your 1000 predictions as sorted from lowest to highest:\n",
        "[ 25.2, 25.3, ..., 25.92, ..., 31.0, 31.2, ..., 31.5 ]\n",
        "\n",
        "The 5th percentile means:\n",
        "→ “What is the price below which the lowest 5% of predictions fall?”\n",
        "\n",
        "In your case: 5th percentile = 25.92\n",
        "→ That means: 50 out of 1000 predicted prices are less than or equal to 25.92.\n",
        "\n",
        "The 95th percentile = 31.5\n",
        "→ That means: 950 out of 1000 predicted prices are less than or equal to 31.5.\n",
        "\n",
        "\n",
        "\n",
        " **🔍 So When I Say:**\n",
        "\n",
        "\"In the worst 5% of cases, the price could drop to 25.92\"\n",
        "\n",
        "It means:\n",
        "When LSTAT is randomly sampled between 3.72 and 15 And you predict price for each sample ,The bottom 5% of all predicted prices were 25.92 or lower\n",
        "\n",
        "You can think of it like:\n",
        "\n",
        "\"If I draw 1000 possible futures where LSTAT varies, the worst 50 of them (bottom 5%) have price around 25.92 or less.\"\n",
        "\n",
        "\n",
        "\n",
        "**🧠 Why This Matters?**\n",
        "\n",
        "It helps answer:\n",
        "\n",
        "“How bad can it get if my input (LSTAT) is uncertain or fluctuates?”\n",
        "\n",
        "“What’s the risk or range of outcomes I might expect?”\n",
        "\n",
        "\n",
        "\n",
        "\n",
        "\n"
      ],
      "metadata": {
        "id": "IucW2Y98qwKM"
      }
    },
    {
      "cell_type": "code",
      "source": [
        "fifth_percentile = np.percentile(predicted_prices_lstat, 5)\n",
        "print(f\"5th Percentile of Predicted Prices: {fifth_percentile}\")\n",
        "\n",
        "ninty_fifth_percentile = np.percentile(predicted_prices_lstat, 95)\n",
        "print(f\"95th Percentile of Predicted Prices: {ninty_fifth_percentile}\")\n",
        "\n",
        "prediction_range = ninty_fifth_percentile - fifth_percentile\n",
        "\n",
        "print(f\"Range covering 90% of predictions: {prediction_range}\")\n",
        "\n",
        "print(f\"90% confidence range : ${fifth_percentile:,.2f} to ${ninty_fifth_percentile:,.2f}\")"
      ],
      "metadata": {
        "colab": {
          "base_uri": "https://localhost:8080/"
        },
        "id": "5jo239fD6EkO",
        "outputId": "c152b8e7-1b03-45af-b340-55eea0547d2a"
      },
      "execution_count": null,
      "outputs": [
        {
          "output_type": "stream",
          "name": "stdout",
          "text": [
            "5th Percentile of Predicted Prices: 25.300746618061762\n",
            "95th Percentile of Predicted Prices: 30.612304213416543\n",
            "Range covering 90% of predictions: 5.311557595354781\n",
            "90% confidence range : $25.30 to $30.61\n"
          ]
        }
      ]
    },
    {
      "cell_type": "code",
      "source": [],
      "metadata": {
        "id": "RAhTUSGwV3HM"
      },
      "execution_count": null,
      "outputs": []
    },
    {
      "cell_type": "code",
      "source": [
        "plt.hist(predicted_prices_lstat, bins=50, color='skyblue', edgecolor='black')\n",
        "plt.title(\"Monte Carlo Simulation of House Price Prediction\")\n",
        "plt.xlabel(\"Predicted Price (£)\")\n",
        "plt.ylabel(\"Frequency\")\n",
        "plt.axvline(np.percentile(predicted_prices_lstat, 5), color='red', linestyle='dashed', label='5th percentile')\n",
        "plt.axvline(np.percentile(predicted_prices_lstat, 95), color='green', linestyle='dashed', label='95th percentile')\n",
        "plt.legend()\n",
        "plt.show()"
      ],
      "metadata": {
        "colab": {
          "base_uri": "https://localhost:8080/",
          "height": 472
        },
        "id": "PZozZ-f07apu",
        "outputId": "e1a007f1-1180-48b5-9073-2feb78deb564"
      },
      "execution_count": null,
      "outputs": [
        {
          "output_type": "display_data",
          "data": {
            "text/plain": [
              "<Figure size 640x480 with 1 Axes>"
            ],
            "image/png": "[encoded data removed]"
          },
          "metadata": {}
        }
      ]
    },
    {
      "cell_type": "markdown",
      "source": [
        "**✋ In Short:**\n",
        "\n",
        "We use percentiles to get a confidence range (e.g. 90% of predictions fall between X and Y)\n",
        "\n",
        "We use a histogram to visualize the shape of that prediction distribution"
      ],
      "metadata": {
        "id": "4_IZh5p4rsFH"
      }
    },
    {
      "cell_type": "markdown",
      "source": [
        "**You simulated the impact of  change in LSTAT values , keeping other things constant.**\n",
        "\n",
        "###**You observed:**\n",
        "\n",
        "\n",
        "5th percentile of predicted prices = 25.30\n",
        "\n",
        "95th percentile = 30.61\n",
        "\n",
        "\n",
        "**“What if LSTAT varies from current (3.72) up to 15 (i.e. the house is in a more lower-income area)?”**\n",
        "\n",
        "**📊 What does analysis says**\n",
        "1. LSTAT is a sensitive feature\n",
        "Because LSTAT has a strong negative correlation (-0.73), increasing it causes price to drop.\n",
        "\n",
        "\n",
        "2. Your Model Is Responding As Expected\n",
        "\n",
        "\n",
        "At LSTAT = 3.72, model predicted 30.61\n",
        "\n",
        "As LSTAT increases to values closer to 15, Price decreases due to the strong negative correlation\n",
        "\n",
        "In fact, the worst-case simulated price (5th percentile) is 25.30\n",
        "\n",
        "🔍 So:\n",
        "\n",
        "\"If the neighborhood LSTAT varies (up to 15%), the price could drop from 31.67 to as low as ~25 in the worst 5% of cases.\"\n",
        "\n",
        "\n",
        "## ✅ Interpretation\n",
        "\n",
        "“Given uncertainty in LSTAT (within a realistic range), how much might the predicted price change?”\n",
        "\n",
        "Your output tells you:\n",
        "Most of the time (90% between 5th–95th percentiles), predicted price is between 25.3 and 31.6\n",
        "\n",
        "There's a high sensitivity to LSTAT\n",
        "\n",
        "A small change in LSTAT (even staying below 15) can cause the model to predict a much lower price"
      ],
      "metadata": {
        "id": "Ewb0XgpKuIOC"
      }
    },
    {
      "cell_type": "markdown",
      "source": [
        "##**Monte carlo simulation in python : checking uncertainity in predicted output with multiple varaible**"
      ],
      "metadata": {
        "id": "4UrhNWuLJmh4"
      }
    },
    {
      "cell_type": "markdown",
      "source": [
        "**We have checked for 'LSTAT' , now lets check for 'NOx & RM'**"
      ],
      "metadata": {
        "id": "E4V9CYBbZRrK"
      }
    },
    {
      "cell_type": "markdown",
      "source": [
        "Datset has **NOx.**\n",
        "\n",
        "Nitric oxides (NOx) are pollutants produced during combustion, often from vehicles and industrial processes.\n",
        "Higher NOx levels contribute to smog, acid rain, and respiratory problems.\n",
        "\n",
        "Lets suppose , Area and its neighbourhood will see rapid industrialisation in coming months which will lead to increase in values of NOx"
      ],
      "metadata": {
        "id": "ArpMRoC0KG0P"
      }
    },
    {
      "cell_type": "code",
      "source": [
        "simulations =1000\n",
        "NOx_samples=np.random.uniform(0.55,0.80,size=simulations)"
      ],
      "metadata": {
        "id": "bSG-lh7MMfCq"
      },
      "execution_count": null,
      "outputs": []
    },
    {
      "cell_type": "code",
      "source": [
        "#selecting best predicted output for this as base\n",
        "X_test_base=X_test.iloc[62].copy()\n",
        "y_test_base=y_test.iloc[62].copy()\n",
        "\n",
        "predicted_prices_nox=[]\n",
        "for i in NOx_samples:\n",
        "  X_test_base['NOX']=i\n",
        "  predicted_prices_nox.append(cb.predict(X_test_base.values.reshape(1,-1))[0])"
      ],
      "metadata": {
        "id": "jXc8he4gOJXa"
      },
      "execution_count": null,
      "outputs": []
    },
    {
      "cell_type": "code",
      "source": [
        "fifth_percentile = np.percentile(predicted_prices_nox, 5)\n",
        "print(f\"5th Percentile of Predicted Prices: {fifth_percentile}\")\n",
        "\n",
        "ninty_fifth_percentile = np.percentile(predicted_prices_nox, 95)\n",
        "print(f\"95th Percentile of Predicted Prices: {ninty_fifth_percentile}\")\n",
        "\n",
        "prediction_range = ninty_fifth_percentile - fifth_percentile\n",
        "\n",
        "print(f\"Range covering 90% of predictions: {prediction_range}\")\n",
        "\n",
        "print(f\"90% confidence range : ${fifth_percentile:,.2f} to ${ninty_fifth_percentile:,.2f}\")"
      ],
      "metadata": {
        "colab": {
          "base_uri": "https://localhost:8080/"
        },
        "id": "eyZzqJL4OXk1",
        "outputId": "9a24b366-1e63-4187-873d-56ccdc37a20e"
      },
      "execution_count": null,
      "outputs": [
        {
          "output_type": "stream",
          "name": "stdout",
          "text": [
            "5th Percentile of Predicted Prices: 30.78732101277656\n",
            "95th Percentile of Predicted Prices: 31.941184989008356\n",
            "Range covering 90% of predictions: 1.153863976231797\n",
            "90% confidence range : $30.79 to $31.94\n"
          ]
        }
      ]
    },
    {
      "cell_type": "markdown",
      "source": [
        "Dataset has **RM**: number of rooms per dwelling\n",
        "\n",
        "Lets suppose user wants to check if prices differs if number of rooms increase / descrease by 2\n",
        "At present number of rooms is 6\n",
        "so possible values are 4,5,7,8"
      ],
      "metadata": {
        "id": "SogMbTzlQ0pO"
      }
    },
    {
      "cell_type": "code",
      "source": [
        "#selecting best predicted output for this as base\n",
        "X_test_base=X_test.iloc[62].copy()\n",
        "y_test_base=y_test.iloc[62].copy()\n",
        "predicted_prices_rm=[]\n",
        "simulations=1000\n",
        "possibe_rm_values=np.random.uniform(4,8,size=simulations)\n",
        "for i in possibe_rm_values:\n",
        "  X_test_base['RM']=i\n",
        "  predicted_prices_rm.append(cb.predict(X_test_base.values.reshape(1,-1))[0])"
      ],
      "metadata": {
        "id": "NY8o3d6FOYtX"
      },
      "execution_count": null,
      "outputs": []
    },
    {
      "cell_type": "code",
      "source": [
        "fifth_percentile = np.percentile(predicted_prices_rm, 5)\n",
        "print(f\"5th Percentile of Predicted Prices: {fifth_percentile}\")\n",
        "\n",
        "ninty_fifth_percentile = np.percentile(predicted_prices_rm, 95)\n",
        "print(f\"95th Percentile of Predicted Prices: {ninty_fifth_percentile}\")\n",
        "\n",
        "prediction_range = ninty_fifth_percentile - fifth_percentile\n",
        "\n",
        "print(f\"Range covering 90% of predictions: {prediction_range}\")\n",
        "\n",
        "print(f\"90% confidence range : ${fifth_percentile:,.2f} to ${ninty_fifth_percentile:,.2f}\")"
      ],
      "metadata": {
        "colab": {
          "base_uri": "https://localhost:8080/"
        },
        "id": "1vrbIg_HSK0I",
        "outputId": "61ccdcb3-0291-45ea-ab35-226e0f780cba"
      },
      "execution_count": null,
      "outputs": [
        {
          "output_type": "stream",
          "name": "stdout",
          "text": [
            "5th Percentile of Predicted Prices: 26.078632523965503\n",
            "95th Percentile of Predicted Prices: 45.91003064810014\n",
            "Range covering 90% of predictions: 19.831398124134637\n",
            "90% confidence range : $26.08 to $45.91\n"
          ]
        }
      ]
    },
    {
      "cell_type": "markdown",
      "source": [
        "##**Checking which varaible has most impact?**"
      ],
      "metadata": {
        "id": "DD6c897XZeKt"
      }
    },
    {
      "cell_type": "markdown",
      "source": [
        "1] compare standard deviations\n",
        "\n",
        "The one with larger standard deviation casuses more output variability, therefore has more impact under uncertainity"
      ],
      "metadata": {
        "id": "Q4rTjsdqbTbC"
      }
    },
    {
      "cell_type": "code",
      "source": [
        "np.std(predicted_prices_lstat),np.std(predicted_prices_nox),np.std(predicted_prices_rm)"
      ],
      "metadata": {
        "colab": {
          "base_uri": "https://localhost:8080/"
        },
        "id": "6V0kRWCqSP05",
        "outputId": "156616aa-4ca3-49ec-a6a9-707912aab2a5"
      },
      "execution_count": null,
      "outputs": [
        {
          "output_type": "execute_result",
          "data": {
            "text/plain": [
              "(np.float64(1.5222972208591707),\n",
              " np.float64(0.44896836870940565),\n",
              " np.float64(6.86109424531544))"
            ]
          },
          "metadata": {},
          "execution_count": 287
        }
      ]
    },
    {
      "cell_type": "markdown",
      "source": [
        "2] Calculate Partial correlation\n",
        "\n",
        "Variable which has highest correlation with target variable, more it influences price uncertainity"
      ],
      "metadata": {
        "id": "hpAetDJBbogh"
      }
    },
    {
      "cell_type": "code",
      "source": [
        "#get index of features\n",
        "simulations=1000\n",
        "rm_index=list(X_test_base.index).index('RM') # Use X_test_base.index to get correct indices\n",
        "Lstat_index=list(X_test_base.index).index('LSTAT')  # Use X_test_base.index to get correct indices\n",
        "NOX_index=list(X_test_base.index).index('NOX')  # Use X_test_base.index to get correct indices\n",
        "\n",
        "#generated simulation samples for all three features\n",
        "#{'LSTAT':LSTAT_samples,'NOX':NOx_samples,'RM':possibe_rm_values}\n",
        "\n",
        "#create base input matrix with original obs repeated\n",
        "X_simulated=np.tile(X_test_base.values,(simulations,1))\n",
        "\n",
        "#overwrite 3 feature columns with sample values\n",
        "X_simulated[:,Lstat_index]=LSTAT_samples\n",
        "X_simulated[:,NOX_index]=NOx_samples\n",
        "X_simulated[:,rm_index]=possibe_rm_values"
      ],
      "metadata": {
        "id": "d3RxkPqJh9u5"
      },
      "execution_count": null,
      "outputs": []
    },
    {
      "cell_type": "code",
      "source": [
        "#make predictions\n",
        "predicted_prices_simulated=cb.predict(X_simulated)\n",
        "\n",
        "#create DF for analysis\n",
        "df_sim=pd.DataFrame({'LSTAT':LSTAT_samples,'NOX':NOx_samples,'RM':possibe_rm_values,'PRICE':predicted_prices_simulated})\n",
        "df_sim.corr()['PRICE']"
      ],
      "metadata": {
        "colab": {
          "base_uri": "https://localhost:8080/",
          "height": 210
        },
        "id": "CwO_0lhEjNC6",
        "outputId": "443e85b2-2d67-40f8-a854-355b1ad8f773"
      },
      "execution_count": null,
      "outputs": [
        {
          "output_type": "execute_result",
          "data": {
            "text/plain": [
              "LSTAT   -0.336786\n",
              "NOX      0.001700\n",
              "RM       0.828351\n",
              "PRICE    1.000000\n",
              "Name: PRICE, dtype: float64"
            ],
            "text/html": [
              "<div>\n",
              "<style scoped>\n",
              "    .dataframe tbody tr th:only-of-type {\n",
              "        vertical-align: middle;\n",
              "    }\n",
              "\n",
              "    .dataframe tbody tr th {\n",
              "        vertical-align: top;\n",
              "    }\n",
              "\n",
              "    .dataframe thead th {\n",
              "        text-align: right;\n",
              "    }\n",
              "</style>\n",
              "<table border=\"1\" class=\"dataframe\">\n",
              "  <thead>\n",
              "    <tr style=\"text-align: right;\">\n",
              "      <th></th>\n",
              "      <th>PRICE</th>\n",
              "    </tr>\n",
              "  </thead>\n",
              "  <tbody>\n",
              "    <tr>\n",
              "      <th>LSTAT</th>\n",
              "      <td>-0.336786</td>\n",
              "    </tr>\n",
              "    <tr>\n",
              "      <th>NOX</th>\n",
              "      <td>0.001700</td>\n",
              "    </tr>\n",
              "    <tr>\n",
              "      <th>RM</th>\n",
              "      <td>0.828351</td>\n",
              "    </tr>\n",
              "    <tr>\n",
              "      <th>PRICE</th>\n",
              "      <td>1.000000</td>\n",
              "    </tr>\n",
              "  </tbody>\n",
              "</table>\n",
              "</div><br><label><b>dtype:</b> float64</label>"
            ]
          },
          "metadata": {},
          "execution_count": 310
        }
      ]
    },
    {
      "cell_type": "code",
      "source": [
        "# Optional: Visualize\n",
        "plt.figure(figsize=(10, 5))\n",
        "\n",
        "plt.subplot(1, 3, 1)\n",
        "plt.scatter(df_sim['RM'], df_sim['PRICE'], alpha=0.5)\n",
        "plt.title(\"Price vs RM\")\n",
        "plt.xlabel(\"RM (rooms per dwelling)\")\n",
        "plt.ylabel(\"Predicted Price\")\n",
        "\n",
        "plt.subplot(1, 3, 2)\n",
        "plt.scatter(df_sim['LSTAT'], df_sim['PRICE'], alpha=0.5, color='orange')\n",
        "plt.title(\"Price vs LSTAT\")\n",
        "plt.xlabel(\"LSTAT (% lower status)\")\n",
        "plt.ylabel(\"Predicted Price\")\n",
        "\n",
        "plt.subplot(1, 3, 3)\n",
        "plt.scatter(df_sim['NOX'], df_sim['PRICE'], alpha=0.5, color='orange')\n",
        "plt.title(\"Price vs NOX\")\n",
        "plt.xlabel(\"NOX Amonts in air)\")\n",
        "plt.ylabel(\"Predicted Price\")\n",
        "\n",
        "plt.tight_layout()\n",
        "plt.show()"
      ],
      "metadata": {
        "colab": {
          "base_uri": "https://localhost:8080/",
          "height": 507
        },
        "id": "f1Adf-6-iDn3",
        "outputId": "8201647d-d0eb-4ac5-b375-33785a259dc6"
      },
      "execution_count": null,
      "outputs": [
        {
          "output_type": "display_data",
          "data": {
            "text/plain": [
              "<Figure size 1000x500 with 3 Axes>"
            ],
            "image/png": "[encoded data removed]"
          },
          "metadata": {}
        }
      ]
    },
    {
      "cell_type": "markdown",
      "source": [
        "As clearly seen from standard deviation , correlation plots above and independant monte carlo simulation analysis of all 3 varaibles,\n",
        "**'RM' varaible has highest impact .**  "
      ],
      "metadata": {
        "id": "Scbd5cpflSBx"
      }
    },
    {
      "cell_type": "markdown",
      "source": [
        "##**✅Conclusion**\n",
        "\n",
        "We applied Monte Carlo simulation to explore how uncertainty in key input features (`RM`, `LSTAT`, and `NOX`) affects predicted house prices from a trained regression model. By varying each feature across realistic ranges while holding others constant, we generated thousand of hypothetical scenarios.\n",
        "\n",
        "Key observations:\n",
        "\n",
        "* **LSTAT** (lower-status population %) showed a **strong negative impact** on price. As LSTAT increases, predicted price decreases sharply — consistent with the original correlation of -0.73.\n",
        "\n",
        "* **RM** (average number of rooms) exhibited a **positive relationship** with price. Higher room count led to significantly higher predicted values.\n",
        "\n",
        "* **NOX** (nitric oxides concentration (parts per 10 million)) had **less consistent impact** and little  influence on price volatility compared to other two varaibles.\n",
        "\n",
        "Through this simulation, we quantified prediction **uncertainty**:\n",
        "\n",
        "This approach helped:\n",
        "\n",
        "* Identify which features **drive most variability** in predictions.\n",
        "* Understand **sensitivity** of predictions to changes in real-world inputs.\n",
        "* Communicate model **reliability and risk** in decision-making (e.g., pricing strategy, risk modeling)."
      ],
      "metadata": {
        "id": "Mf1WqUxRmVw-"
      }
    },
    {
      "cell_type": "code",
      "source": [],
      "metadata": {
        "id": "FlTgwAHEcuG4"
      },
      "execution_count": null,
      "outputs": []
    }
  ]
}